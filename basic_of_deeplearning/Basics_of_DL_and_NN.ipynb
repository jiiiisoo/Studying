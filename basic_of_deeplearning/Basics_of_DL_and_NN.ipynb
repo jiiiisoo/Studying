{
  "nbformat": 4,
  "nbformat_minor": 0,
  "metadata": {
    "colab": {
      "name": "Introduction to DL_Basics of DL and NN.ipynb",
      "provenance": [],
      "collapsed_sections": [],
      "toc_visible": true,
      "authorship_tag": "ABX9TyNoM+fY0ZwLQAmxiitNdbxv",
      "include_colab_link": true
    },
    "kernelspec": {
      "name": "python3",
      "display_name": "Python 3"
    },
    "language_info": {
      "name": "python"
    }
  },
  "cells": [
    {
      "cell_type": "markdown",
      "metadata": {
        "id": "view-in-github",
        "colab_type": "text"
      },
      "source": [
        "<a href=\"https://colab.research.google.com/github/jiiiisoo/Studying/blob/main/basic_of_deeplearning/Basics_of_DL_and_NN.ipynb\" target=\"_parent\"><img src=\"https://colab.research.google.com/assets/colab-badge.svg\" alt=\"Open In Colab\"/></a>"
      ]
    },
    {
      "cell_type": "markdown",
      "source": [
        "# **Introduction to DL**"
      ],
      "metadata": {
        "id": "LbxSgpakoWuA"
      }
    },
    {
      "cell_type": "markdown",
      "source": [
        "# Basics of DL and NN"
      ],
      "metadata": {
        "id": "o2J7sOtGofX7"
      }
    },
    {
      "cell_type": "markdown",
      "source": [
        "##Forward Propagation Algorithm in Python\n",
        "\n",
        "Coding the forward propagation algorithm\n",
        "In this exercise, you'll write code to do forward propagation (prediction) for your first neural network:\n",
        "\n",
        "![image.png](data:image/png;base64,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)\n",
        "\n",
        "Each data point is a customer. The first input is how many accounts they have, and the second input is how many children they have. The model will predict how many transactions the user makes in the next year. You will use this data throughout the first 2 chapters of this course.\n",
        "\n",
        "The input data has been pre-loaded as input_data, and the weights are available in a dictionary called weights. The array of weights for the first node in the hidden layer are in weights['node_0'], and the array of weights for the second node in the hidden layer are in weights['node_1'].\n",
        "\n",
        "The weights feeding into the output node are available in weights['output'].\n",
        "\n",
        "NumPy will be pre-imported for you as np in all exercises."
      ],
      "metadata": {
        "id": "DU1jyN2bqcLD"
      }
    },
    {
      "cell_type": "code",
      "source": [
        "import numpy as np\n",
        "\n",
        "#input data\n",
        "input_data=np.array([3,5])\n",
        "#weights\n",
        "weights={'node_0':[2,4],'node_1':[4,-5],'output':[2,7]}\n",
        "\n",
        "# Calculate node 0 value: node_0_value\n",
        "node_0_value = (input_data * weights['node_0']).sum()\n",
        "\n",
        "# Calculate node 1 value: node_1_value\n",
        "node_1_value = (input_data*weights['node_1']).sum()\n",
        "\n",
        "# Put node values into array: hidden_layer_outputs\n",
        "hidden_layer_outputs = np.array([node_0_value, node_1_value])\n",
        "\n",
        "# Calculate output: output\n",
        "output = (hidden_layer_outputs*weights['output']).sum()\n",
        "\n",
        "# Print output\n",
        "print(output)"
      ],
      "metadata": {
        "colab": {
          "base_uri": "https://localhost:8080/"
        },
        "id": "I0I8adZnqoD5",
        "outputId": "e81a3ca9-4630-4969-d919-dbe1928d088e"
      },
      "execution_count": null,
      "outputs": [
        {
          "output_type": "stream",
          "name": "stdout",
          "text": [
            "-39\n"
          ]
        }
      ]
    },
    {
      "cell_type": "markdown",
      "source": [
        "## The Rectified Linear Activation Function (RELU)\n",
        "\n",
        "As Dan explained to you in the video, an \"activation function\" is a function applied at each node. It converts the node's input into some output.\n",
        "\n",
        "The rectified linear activation function (called ReLU) has been shown to lead to very high-performance networks. This function takes a single number as an input, returning 0 if the input is negative, and the input if the input is positive.\n",
        "\n",
        "Here are some examples:  \n",
        "relu(3) = 3  \n",
        "relu(-3) = 0"
      ],
      "metadata": {
        "id": "G5OuNZP4tNVN"
      }
    },
    {
      "cell_type": "code",
      "source": [
        "def relu(input):\n",
        "    # Calculate the value for the output of the relu function: output\n",
        "    output = max(0, input)\n",
        "    # Return the value just calculated\n",
        "    return(output)\n",
        "\n",
        "# Calculate node 0 value: node_0_output\n",
        "node_0_input = (input_data * weights['node_0']).sum()\n",
        "node_0_output = relu(node_0_input)\n",
        "\n",
        "# Calculate node 1 value: node_1_output\n",
        "node_1_input = (input_data * weights['node_1']).sum()\n",
        "node_1_output = relu(node_1_input)\n",
        "\n",
        "# Put node values into array: hidden_layer_outputs\n",
        "hidden_layer_outputs = np.array([node_0_output, node_1_output])\n",
        "\n",
        "# Calculate model output (do not apply relu)\n",
        "model_output = (hidden_layer_outputs * weights['output']).sum()\n",
        "\n",
        "# Print model output\n",
        "print(model_output)"
      ],
      "metadata": {
        "colab": {
          "base_uri": "https://localhost:8080/"
        },
        "id": "U250JIn8seBd",
        "outputId": "63d52903-e328-4be1-c0a8-1fc5fa8730e1"
      },
      "execution_count": null,
      "outputs": [
        {
          "output_type": "stream",
          "name": "stdout",
          "text": [
            "52\n"
          ]
        }
      ]
    },
    {
      "cell_type": "markdown",
      "source": [
        "##Applying the network to many observations/rows of data\n",
        "\n",
        "You'll now define a function called predict_with_network() which will generate predictions for multiple data observations, which are pre-loaded as input_data. As before, weights are also pre-loaded. In addition, the relu() function you defined in the previous exercise has been pre-loaded."
      ],
      "metadata": {
        "id": "2r4z36qXuC1k"
      }
    },
    {
      "cell_type": "code",
      "source": [
        "#input\n",
        "input_data= [np.array([3, 5]), np.array([ 1, -1]), np.array([0, 0]), np.array([8, 4])]\n",
        "#weights\n",
        "weights= {'node_0': np.array([2, 4]), 'node_1': np.array([ 4, -5]), 'output': np.array([2, 7])}\n",
        "\n",
        "# Define predict_with_network()\n",
        "def predict_with_network(input_data_row, weights):\n",
        "\n",
        "    # Calculate node 0 value\n",
        "    node_0_input = (input_data_row*weights['node_0']).sum()\n",
        "    node_0_output = relu(node_0_input)\n",
        "\n",
        "    # Calculate node 1 value\n",
        "    node_1_input = (input_data_row*weights['node_1']).sum()\n",
        "    node_1_output = relu(node_1_input)\n",
        "\n",
        "    # Put node values into array: hidden_layer_outputs\n",
        "    hidden_layer_outputs = np.array([node_0_output, node_1_output])\n",
        "    \n",
        "    # Calculate model output\n",
        "    input_to_final_layer = (hidden_layer_outputs*weights['output']).sum()\n",
        "    model_output = relu(input_to_final_layer)\n",
        "    \n",
        "    # Return model output\n",
        "    return(model_output)\n",
        "\n",
        "# Create empty list to store prediction results\n",
        "results = []\n",
        "for input_data_row in input_data:  #보통 i,k 등으로 사용하는 것을 input_data_row로 사용함 (보기 편하게 하기 위함)\n",
        "    # Append prediction to results\n",
        "    results.append(predict_with_network(input_data_row,weights))\n",
        "\n",
        "# Print results\n",
        "print(results)"
      ],
      "metadata": {
        "colab": {
          "base_uri": "https://localhost:8080/"
        },
        "id": "aOoeb5vSuHeI",
        "outputId": "d25c1c82-0888-48a6-a6b5-e348257c2542"
      },
      "execution_count": null,
      "outputs": [
        {
          "output_type": "stream",
          "name": "stdout",
          "text": [
            "[52, 63, 0, 148]\n"
          ]
        }
      ]
    },
    {
      "cell_type": "markdown",
      "source": [
        "##Multi-layer neural networks\n",
        "\n",
        "In this exercise, you'll write code to do forward propagation for a neural network with 2 hidden layers. Each hidden layer has two nodes. The input data has been preloaded as input_data. The nodes in the first hidden layer are called node_0_0 and node_0_1. Their weights are pre-loaded as weights`['node_0_0']` and weights`['node_0_1']` respectively.\n",
        "\n",
        "The nodes in the second hidden layer are called node_1_0 and node_1_1. Their weights are pre-loaded as weights`['node_1_0']` and weights`['node_1_1']` respectively.\n",
        "\n",
        "We then create a model output from the hidden nodes using weights pre-loaded as weights`['output']`.\n",
        "\n",
        "Do not apply the `relu()` function to this output\n",
        "\n",
        "![image.png](data:image/png;base64,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)"
      ],
      "metadata": {
        "id": "UKKnR4rsxriU"
      }
    },
    {
      "cell_type": "code",
      "source": [
        "#input\n",
        "input= np.array([3,5])\n",
        "#weights\n",
        "weights = {'node_1_1': np.array([1, 2]), 'output': np.array([2, 7]), 'node_0_0': np.array([2, 4]), 'node_0_1': np.array([ 4, -5]), 'node_1_0': np.array([-1,  2])}\n",
        "\n",
        "def predict_with_network(input_data):\n",
        "    # Calculate node 0 in the first hidden layer\n",
        "    node_0_0_input = (input_data * weights['node_0_0']).sum()\n",
        "    node_0_0_output = relu(node_0_0_input)\n",
        "\n",
        "    # Calculate node 1 in the first hidden layer\n",
        "    node_0_1_input = (input_data * weights['node_0_1']).sum()\n",
        "    node_0_1_output = relu(node_0_1_input)\n",
        "\n",
        "    # Put node values into array: hidden_0_outputs\n",
        "    hidden_0_outputs = np.array([node_0_0_output, node_0_1_output])\n",
        "    \n",
        "    # Calculate node 0 in the second hidden layer\n",
        "    node_1_0_input = (hidden_0_outputs*weights['node_1_0']).sum()\n",
        "    node_1_0_output = relu(node_1_0_input)\n",
        "\n",
        "    # Calculate node 1 in the second hidden layer\n",
        "    node_1_1_input = (hidden_0_outputs*weights['node_1_1']).sum()\n",
        "    node_1_1_output = relu(node_1_1_input)\n",
        "\n",
        "    # Put node values into array: hidden_1_outputs\n",
        "    hidden_1_outputs = np.array([node_1_0_output, node_1_1_output])\n",
        "\n",
        "    # Calculate model output: model_output\n",
        "    model_output = (hidden_1_outputs*weights['output']).sum()\n",
        "    \n",
        "    # Return model_output\n",
        "    return(model_output)\n",
        "\n",
        "output = predict_with_network(input_data)\n",
        "print(output)"
      ],
      "metadata": {
        "colab": {
          "base_uri": "https://localhost:8080/"
        },
        "id": "uL0yXhLlvd75",
        "outputId": "434a3a20-42f1-49ad-b2a5-c07e7e34f856"
      },
      "execution_count": null,
      "outputs": [
        {
          "output_type": "stream",
          "name": "stdout",
          "text": [
            "84\n"
          ]
        }
      ]
    },
    {
      "cell_type": "markdown",
      "source": [
        "# Optimizing NN with backward propagation"
      ],
      "metadata": {
        "id": "pvf7Fp_q0M6E"
      }
    },
    {
      "cell_type": "markdown",
      "source": [
        "##How weight changes affect accuracy\n",
        "\n",
        "Now you'll get to change weights in a real network and see how they affect model accuracy!\n",
        "\n",
        "Have a look at the following neural network:\n",
        "\n",
        "![image.png](data:image/png;base64,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)\n",
        "\n",
        "Its weights have been pre-loaded as weights_0. Your task in this exercise is to update a single weight in weights_0 to create weights_1, which gives a perfect prediction (in which the predicted value is equal to target_actual: 3).\n",
        "\n",
        "Use a pen and paper if necessary to experiment with different combinations. You'll use the predict_with_network() function, which takes an array of data as the first argument, and weights as the second argument."
      ],
      "metadata": {
        "id": "9Y4_95Dr1Xnn"
      }
    },
    {
      "cell_type": "code",
      "source": [
        "#직접 error 줄이는 weight 찾아서 넣기\n",
        "\n",
        "# The data point you will make a prediction for\n",
        "input_data = np.array([0, 3])\n",
        "\n",
        "# Sample weights\n",
        "weights_0 = {'node_0': [2,1],\n",
        "             'node_1': [1, 1],\n",
        "             'output': [1, 1]\n",
        "            }\n",
        "\n",
        "# The actual target value, used to calculate the error\n",
        "target_actual = 3\n",
        "\n",
        "# Make prediction using original weights\n",
        "model_output_0 = predict_with_network(input_data,weights_0)\n",
        "\n",
        "# Calculate error: error_0\n",
        "error_0 = model_output_0 - target_actual\n",
        "\n",
        "# Create weights that cause the network to make perfect prediction (3): weights_1\n",
        "weights_1 = {'node_0': [2,1],\n",
        "             'node_1': [1, 0],\n",
        "             'output': [1, 1]\n",
        "            }\n",
        "\n",
        "# Make prediction using new weights: model_output_1\n",
        "model_output_1 = predict_with_network(input_data,weights_1)\n",
        "\n",
        "# Calculate error: error_1\n",
        "error_1 = model_output_1 - target_actual\n",
        "\n",
        "# Print error_0 and error_1\n",
        "print(error_0)\n",
        "print(error_1)"
      ],
      "metadata": {
        "id": "f-xk1OpZ1nRu"
      },
      "execution_count": null,
      "outputs": []
    },
    {
      "cell_type": "markdown",
      "source": [
        "## Scaling up to multiple data points\n",
        "\n",
        "You've seen how different weights will have different accuracies on a single prediction. But usually, you'll want to measure model accuracy on many points. You'll now write code to compare model accuracies for two different sets of weights, which have been stored as `weights_0` and `weights_1`.\n",
        "\n",
        "`input_data` is a list of arrays. Each item in that list contains the data to make a single prediction. `target_actuals` is a list of numbers. Each item in that list is the actual value we are trying to predict.\n",
        "\n",
        "In this exercise, you'll use the `mean_squared_error()` function from sklearn.metrics. It takes the true values and the predicted values as arguments.\n",
        "\n",
        "You'll also use the preloaded `predict_with_network(`) function, which takes an array of data as the first argument, and weights as the second argument."
      ],
      "metadata": {
        "id": "2xma9rPr3L7j"
      }
    },
    {
      "cell_type": "code",
      "source": [
        "#input\n",
        "input_data=[np.array([0, 3]), np.array([1, 2]), np.array([-1, -2]), np.array([4, 0])]\n",
        "\n",
        "#weights\n",
        "weights_0={'node_1': np.array([1, 2]), 'output': np.array([1, 1]), 'node_0': np.array([2, 1])}\n",
        "weights_1={'node_1': np.array([1. , 1.5]), 'output': np.array([1. , 1.5]), 'node_0': np.array([2, 1])}\n",
        "\n",
        "from sklearn.metrics import mean_squared_error\n",
        "\n",
        "# Create model_output_0 \n",
        "model_output_0 = []\n",
        "# Create model_output_1\n",
        "model_output_1 = []\n",
        "\n",
        "# Loop over input_data\n",
        "for row in input_data:\n",
        "    # Append prediction to model_output_0\n",
        "    model_output_0.append(predict_with_network(row,weights_0))\n",
        "    \n",
        "    # Append prediction to model_output_1\n",
        "    model_output_1.append(predict_with_network(row,weights_1))\n",
        "\n",
        "# Calculate the mean squared error for model_output_0: mse_0\n",
        "mse_0 = mean_squared_error(target_actuals,model_output_0)\n",
        "\n",
        "# Calculate the mean squared error for model_output_1: mse_1\n",
        "mse_1 = mean_squared_error(target_actuals,model_output_1)\n",
        "\n",
        "# Print mse_0 and mse_1\n",
        "print(\"Mean squared error with weights_0: %f\" %mse_0)\n",
        "print(\"Mean squared error with weights_1: %f\" %mse_1)"
      ],
      "metadata": {
        "id": "5U3IKNHA4QRc"
      },
      "execution_count": null,
      "outputs": []
    },
    {
      "cell_type": "markdown",
      "source": [
        "## Calculating slopes\n",
        "\n",
        "You're now going to practice calculating slopes. When plotting the mean-squared error loss function against predictions, the slope is `2 * x * (xb-y)`, or `2 * input_data * error`. Note that x and b may have multiple numbers (x is a vector for each data point, and b is a vector). In this case, the output will also be a vector, which is exactly what you want.\n",
        "\n",
        "You're ready to write the code to calculate this slope while using a single data point. You'll use pre-defined weights called `weights` as well as data for a single point called `input_data`. The actual value of the target you want to predict is stored in `target`."
      ],
      "metadata": {
        "id": "50p_HslZ_aMs"
      }
    },
    {
      "cell_type": "code",
      "source": [
        "#input data\n",
        "input_data=np.array([1, 2, 3])\n",
        "#weights\n",
        "weights=np.array([0, 2, 1])\n",
        "#target\n",
        "target=0\n",
        "\n",
        "# Calculate the predictions: preds\n",
        "preds = (input_data*weights).sum()\n",
        "\n",
        "# Calculate the error: error\n",
        "error = preds - target\n",
        "\n",
        "# Calculate the slope: slope\n",
        "slope = 2 * input_data * error\n",
        "\n",
        "# Print the slope\n",
        "print(slope)"
      ],
      "metadata": {
        "colab": {
          "base_uri": "https://localhost:8080/"
        },
        "id": "XcqQVgj94QsW",
        "outputId": "7bda9087-1c73-4a14-fd14-db2a6199cf4b"
      },
      "execution_count": null,
      "outputs": [
        {
          "output_type": "stream",
          "name": "stdout",
          "text": [
            "[14 28 42]\n"
          ]
        }
      ]
    },
    {
      "cell_type": "markdown",
      "source": [
        "## Improving model weights\n",
        "\n",
        "Hurray! You've just calculated the slopes you need. Now it's time to use those slopes to improve your model. If you add the slopes to your weights, you will move in the right direction. However, it's possible to move too far in that direction. So you will want to take a small step in that direction first, using a lower learning rate, and verify that the model is improving.\n",
        "\n",
        "The weights have been pre-loaded as `weights`, the actual value of the target as `target`, and the input data as `input_data`. The predictions from the initial weights are stored as `preds`."
      ],
      "metadata": {
        "id": "x2wB4SQxAmXG"
      }
    },
    {
      "cell_type": "code",
      "source": [
        "# Update the weights: weights_updated\n",
        "learning_rate=0.01\n",
        "weights_updated = weights-learning_rate*slope\n",
        "\n",
        "# Get updated predictions: preds_updated\n",
        "preds_updated = (weights_updated*input_data).sum()\n",
        "\n",
        "# Calculate updated error: error_updated\n",
        "error_updated = preds_updated-target\n",
        "\n",
        "# Print the original error\n",
        "print(error)\n",
        "\n",
        "# Print the updated error\n",
        "print(error_updated)"
      ],
      "metadata": {
        "colab": {
          "base_uri": "https://localhost:8080/"
        },
        "id": "2aLmJZaaAwZj",
        "outputId": "53de7313-78c3-45a5-800c-7f6076e03843"
      },
      "execution_count": null,
      "outputs": [
        {
          "output_type": "stream",
          "name": "stdout",
          "text": [
            "7\n",
            "5.04\n"
          ]
        }
      ]
    },
    {
      "cell_type": "markdown",
      "source": [
        "## Making multiple updates to weights\n",
        "\n",
        "You're now going to make multiple updates so you can dramatically improve your model weights, and see how the predictions improve with each update.\n",
        "\n",
        "To keep your code clean, there is a pre-loaded `get_slope()` function that takes `input_data`, `target`, and `weights` as arguments. There is also a `get_mse()` function that takes the same arguments. The `input_data`, `target`, and `weights` have been pre-loaded.\n",
        "\n",
        "This network does not have any hidden layers, and it goes directly from the input (with 3 nodes) to an output node. Note that `weights` is a single array.\n",
        "\n",
        "We have also pre-loaded `matplotlib.pyplot`, and the error history will be plotted after you have done your gradient descent steps."
      ],
      "metadata": {
        "id": "ngWmSXHBBkcC"
      }
    },
    {
      "cell_type": "code",
      "source": [
        "n_updates = 20\n",
        "mse_hist = []\n",
        "\n",
        "# Iterate over the number of updates\n",
        "for i in range(n_updates):\n",
        "    # Calculate the slope: slope\n",
        "    slope = get_slope(input_data, target, weights)\n",
        "    \n",
        "    # Update the weights: weights\n",
        "    weights = weights - 0.01 * slope\n",
        "    \n",
        "    # Calculate mse with new weights: mse\n",
        "    mse = get_mse(input_data, target, weights)\n",
        "    \n",
        "    # Append the mse to mse_hist\n",
        "    mse_hist.append(mse)\n",
        "\n",
        "# Plot the mse history\n",
        "plt.plot(mse_hist)\n",
        "plt.xlabel('Iterations')\n",
        "plt.ylabel('Mean Squared Error')\n",
        "plt.show()"
      ],
      "metadata": {
        "id": "_qDIbYcgB6Qh"
      },
      "execution_count": null,
      "outputs": []
    },
    {
      "cell_type": "markdown",
      "source": [
        "# Building deep learning models with keras"
      ],
      "metadata": {
        "id": "Z585ZjHPFifJ"
      }
    },
    {
      "cell_type": "markdown",
      "source": [
        "## Specifying a model\n",
        "\n",
        "Now you'll get to work with your first model in Keras, and will immediately be able to run more complex neural network models on larger datasets compared to the first two chapters.\n",
        "\n",
        "To start, you'll take the skeleton of a neural network and add a hidden layer and an output layer. You'll then fit that model and see Keras do the optimization so your model continually gets better.\n",
        "\n",
        "As a start, you'll predict workers wages based on characteristics like their industry, education and level of experience. You can find the dataset in a pandas dataframe called `df`. For convenience, everything in df except for the target has been converted to a NumPy matrix called predictors. The target, `wage_per_hour`, is available as a NumPy matrix called `target`.\n",
        "\n",
        "For all exercises in this chapter, we've imported the `Sequential` model constructor, the `Dense` layer constructor, and pandas."
      ],
      "metadata": {
        "id": "ucUYVHRiIqlO"
      }
    },
    {
      "cell_type": "code",
      "source": [
        "# Import necessary modules\n",
        "import keras\n",
        "from keras.layers import Dense\n",
        "from keras.models import Sequential\n",
        "\n",
        "# Save the number of columns in predictors: n_cols\n",
        "n_cols = predictors.shape[1]\n",
        "\n",
        "# Set up the model: model\n",
        "model = Sequential()\n",
        "\n",
        "# Add the first layer\n",
        "model.add(Dense(50, activation='relu', input_shape=(n_cols,)))\n",
        "\n",
        "# Add the second layer\n",
        "model.add(Dense(32, activation='relu', input_shape=(n_cols,)))\n",
        "\n",
        "# Add the output layer\n",
        "model.add(Dense(1))"
      ],
      "metadata": {
        "id": "YeeGkwZFN8Bv"
      },
      "execution_count": null,
      "outputs": []
    },
    {
      "cell_type": "markdown",
      "source": [
        "## Compiling the model\n",
        "\n",
        "You're now going to compile the model you specified earlier. To compile the model, you need to specify the optimizer and loss function to use. In the video, Dan mentioned that the Adam optimizer is an excellent choice.\n",
        "\n",
        "In this exercise, you'll use the Adam optimizer and the mean squared error loss function. Go for it!\n",
        "\n",
        "*more about keras optimizer  \n",
        "https://keras.io/api/optimizers/#adam  \n",
        "https://arxiv.org/abs/1412.6980v8"
      ],
      "metadata": {
        "id": "K0uKiaq1Of1f"
      }
    },
    {
      "cell_type": "code",
      "source": [
        "# Compile the model\n",
        "model.compile(optimizer='adam',loss='mean_squared_error')\n",
        "\n",
        "# Verify that model contains information from compiling\n",
        "print(\"Loss function: \" + model.loss)"
      ],
      "metadata": {
        "id": "p68k0XdaPNI3"
      },
      "execution_count": null,
      "outputs": []
    },
    {
      "cell_type": "markdown",
      "source": [
        "## Fitting the model\n",
        "\n",
        "You're at the most fun part. You'll now fit the model. Recall that the data to be used as predictive features is loaded in a NumPy matrix called `predictors` and the data to be predicted is stored in a NumPy matrix called `target`. Your `model` is pre-written and it has been compiled with the code from the previous exercise."
      ],
      "metadata": {
        "id": "XvRKdt67PTBD"
      }
    },
    {
      "cell_type": "code",
      "source": [
        "# Fit the model\n",
        "model.fit(predictors,target)"
      ],
      "metadata": {
        "id": "9m_Q6BUJPiW9"
      },
      "execution_count": null,
      "outputs": []
    },
    {
      "cell_type": "markdown",
      "source": [
        "## Last steps in classification models\n",
        "\n",
        "You'll now create a classification model using the titanic dataset, which has been pre-loaded into a DataFrame called `df`. You'll take information about the passengers and predict which ones survived.\n",
        "\n",
        "The predictive variables are stored in a NumPy array `predictors`. The target to predict is in `df.survived`, though you'll have to manipulate it for Keras. The number of predictive features is stored in` n_cols`.\n",
        "\n",
        "Here, you'll use the `'sgd'` optimizer, which stands for Stochastic Gradient Descent. You'll learn more about this in the next chapter!\n",
        "\n",
        "*about dataframe  \n",
        "https://www.kaggle.com/c/titanic  \n",
        "https://www.kaggle.com/c/titanic/data"
      ],
      "metadata": {
        "id": "i96WssLsRF87"
      }
    },
    {
      "cell_type": "code",
      "source": [
        "# Import necessary modules\n",
        "import keras\n",
        "from keras.layers import Dense\n",
        "from keras.models import Sequential\n",
        "from keras.utils import to_categorical\n",
        "\n",
        "# Convert the target to categorical: target\n",
        "target = to_categorical(df.survived)\n",
        "\n",
        "# Set up the model\n",
        "model = Sequential()\n",
        "\n",
        "# Add the first layer\n",
        "model.add(Dense(32,activation='relu',input_shape=(n_cols,)))\n",
        "\n",
        "# Add the output layer\n",
        "model.add(Dense(2,activation='softmax'))\n",
        "\n",
        "# Compile the model\n",
        "model.compile(optimizer='sgd',loss='categorical_crossentropy',metrics=['accuracy'])\n",
        "\n",
        "# Fit the model\n",
        "model.fit(predictors,target)"
      ],
      "metadata": {
        "id": "wP-5Yc5BSG91"
      },
      "execution_count": null,
      "outputs": []
    },
    {
      "cell_type": "markdown",
      "source": [
        "## Making predictions\n",
        "\n",
        "The trained network from your previous coding exercise is now stored as `model`. New data to make predictions is stored in a NumPy array as `pred_data`. Use model to make predictions on your new data.\n",
        "\n",
        "In this exercise, your predictions will be probabilities, which is the most common way for data scientists to communicate their predictions to colleagues."
      ],
      "metadata": {
        "id": "4W_6lHYbSk-y"
      }
    },
    {
      "cell_type": "code",
      "source": [
        "# Calculate predictions: predictions\n",
        "predictions = model.predict(pred_data)\n",
        "\n",
        "# Calculate predicted probability of survival: predicted_prob_true\n",
        "predicted_prob_true = predictions[:,1]\n",
        "\n",
        "# print predicted_prob_true\n",
        "print(predicted_prob_true)"
      ],
      "metadata": {
        "id": "XffIxzwLTGlr"
      },
      "execution_count": null,
      "outputs": []
    },
    {
      "cell_type": "markdown",
      "source": [
        "# Understanding model optimization"
      ],
      "metadata": {
        "id": "jy0CFDKJTIBu"
      }
    },
    {
      "cell_type": "markdown",
      "source": [
        "## Changing optimization parameters\n",
        "\n",
        "It's time to get your hands dirty with optimization. You'll now try optimizing a model at a very low learning rate, a very high learning rate, and a \"just right\" learning rate. You'll want to look at the results after running this exercise, remembering that a low value for the loss function is good.\n",
        "\n",
        "For these exercises, we've pre-loaded the predictors and target values from your previous classification models (predicting who would survive on the Titanic). You'll want the optimization to start from scratch every time you change the learning rate, to give a fair comparison of how each learning rate did in your results. So we have created a function `get_new_model()` that creates an unoptimized model to optimize."
      ],
      "metadata": {
        "id": "lSeyE5ekUNBF"
      }
    },
    {
      "cell_type": "code",
      "source": [
        "# Import the SGD optimizer\n",
        "from keras.optimizers import SGD\n",
        "\n",
        "# Create list of learning rates: lr_to_test\n",
        "lr_to_test = [.000001,0.01,1]\n",
        "\n",
        "# Loop over learning rates\n",
        "for lr in lr_to_test:\n",
        "    print('\\n\\nTesting model with learning rate: %f\\n'%lr )\n",
        "    \n",
        "    # Build new model to test, unaffected by previous models\n",
        "    model = get_new_model()\n",
        "    \n",
        "    # Create SGD optimizer with specified learning rate: my_optimizer\n",
        "    my_optimizer = SGD(lr=lr)\n",
        "    \n",
        "    # Compile the model\n",
        "    model.compile(optimizer=my_optimizer, loss='categorical_crossentropy')\n",
        "    \n",
        "    # Fit the model\n",
        "    model.fit(predictors,target)"
      ],
      "metadata": {
        "id": "LPRAMU5VUScI"
      },
      "execution_count": null,
      "outputs": []
    },
    {
      "cell_type": "markdown",
      "source": [
        "## Evaluating model accuracy on validation dataset\n",
        "\n",
        "Now it's your turn to monitor model accuracy with a validation data set. A model definition has been provided as `model`. Your job is to add the code to compile it and then fit it. You'll check the validation score in each epoch."
      ],
      "metadata": {
        "id": "bGcTCmUwYXds"
      }
    },
    {
      "cell_type": "code",
      "source": [
        "# Save the number of columns in predictors: n_cols\n",
        "n_cols = predictors.shape[1]\n",
        "input_shape = (n_cols,)\n",
        "\n",
        "# Specify the model\n",
        "model = Sequential()\n",
        "model.add(Dense(100, activation='relu', input_shape = input_shape))\n",
        "model.add(Dense(100, activation='relu'))\n",
        "model.add(Dense(2, activation='softmax'))\n",
        "\n",
        "# Compile the model\n",
        "model.compile(optimizer='adam',loss='categorical_crossentropy',metrics=['accuracy'])\n",
        "\n",
        "# Fit the model\n",
        "hist = model.fit(predictors,target,validation_split=0.3)"
      ],
      "metadata": {
        "id": "B2YtlrMmYcHF"
      },
      "execution_count": null,
      "outputs": []
    },
    {
      "cell_type": "markdown",
      "source": [
        "## Early stopping: Optimizing the optimization\n",
        "\n",
        "Now that you know how to monitor your model performance throughout optimization, you can use early stopping to stop optimization when it isn't helping any more. Since the optimization stops automatically when it isn't helping, you can also set a high value for `epochs` in your call to `.fit()`, as Dan showed in the video.\n",
        "\n",
        "The model you'll optimize has been specified as `model`. As before, the data is pre-loaded as `predictors` and `target`."
      ],
      "metadata": {
        "id": "Ma4ewZlWZSn6"
      }
    },
    {
      "cell_type": "code",
      "source": [
        "# Import EarlyStopping\n",
        "from keras.callbacks import EarlyStopping\n",
        "# Save the number of columns in predictors: n_cols\n",
        "n_cols = predictors.shape[1]\n",
        "input_shape = (n_cols,)\n",
        "\n",
        "# Specify the model\n",
        "model = Sequential()\n",
        "model.add(Dense(100, activation='relu', input_shape = input_shape))\n",
        "model.add(Dense(100, activation='relu'))\n",
        "model.add(Dense(2, activation='softmax'))\n",
        "\n",
        "# Compile the model\n",
        "model.compile(optimizer='adam', loss='categorical_crossentropy',metrics=['accuracy'])\n",
        "\n",
        "# Define early_stopping_monitor\n",
        "early_stopping_monitor = EarlyStopping(patience=2)\n",
        "\n",
        "# Fit the model\n",
        "model.fit(predictors,target,validation_split=0.3, epochs=30, callbacks=[early_stopping_monitor])\n"
      ],
      "metadata": {
        "id": "A_ZfXoBTaY6N"
      },
      "execution_count": null,
      "outputs": []
    },
    {
      "cell_type": "markdown",
      "source": [
        "## Experimenting with wider networks\n",
        "\n",
        "Now you know everything you need to begin experimenting with different models!\n",
        "\n",
        "A model called` model_1` has been pre-loaded. You can see a summary of this model printed in the IPython Shell. This is a relatively small network, with only 10 units in each hidden layer.\n",
        "\n",
        "In this exercise you'll create a new model called `model_2` which is similar to `model_1`, except it has 100 units in each hidden layer.\n",
        "\n",
        "After you create `model_2`, both models will be fitted, and a graph showing both models loss score at each epoch will be shown. We added the argument `verbose=False` in the fitting commands to print out fewer updates, since you will look at these graphically instead of as text.\n",
        "\n",
        "Because you are fitting two models, it will take a moment to see the `outputs` after you hit run, so be patient."
      ],
      "metadata": {
        "id": "5QHQSGF4acag"
      }
    },
    {
      "cell_type": "code",
      "source": [
        "# Define early_stopping_monitor\n",
        "early_stopping_monitor = EarlyStopping(patience=2)\n",
        "\n",
        "# Create the new model: model_2\n",
        "model_2 = Sequential()\n",
        "\n",
        "# Add the first and second layers\n",
        "model_2.add(Dense(100, activation='relu', input_shape = input_shape))\n",
        "model_2.add(Dense(100, activation='relu'))\n",
        "\n",
        "# Add the output layer\n",
        "model_2.add(Dense(2, activation='softmax'))\n",
        "\n",
        "# Compile model_2\n",
        "model_2.compile(optimizer='adam',loss='categorical_crossentropy',metrics=['accuracy'])\n",
        "\n",
        "# Fit model_1\n",
        "model_1_training = model_1.fit(predictors, target, epochs=15, validation_split=0.2, callbacks=[early_stopping_monitor], verbose=False)\n",
        "\n",
        "# Fit model_2\n",
        "model_2_training = model_2.fit(predictors, target, epochs=15, validation_split=0.2, callbacks=[early_stopping_monitor], verbose=False)\n",
        "\n",
        "# Create the plot\n",
        "plt.plot(model_1_training.history['val_loss'], 'r', model_2_training.history['val_loss'], 'b')\n",
        "plt.xlabel('Epochs')\n",
        "plt.ylabel('Validation score')\n",
        "plt.show()"
      ],
      "metadata": {
        "id": "ZwJA5_uYb530"
      },
      "execution_count": null,
      "outputs": []
    },
    {
      "cell_type": "markdown",
      "source": [
        "## Adding layers to a network\n",
        "\n",
        "You've seen how to experiment with wider networks. In this exercise, you'll try a deeper network (more hidden layers).\n",
        "\n",
        "Once again, you have a baseline model called `model_1` as a starting point. It has 1 hidden layer, with 50 units. You can see a summary of that model's structure printed out. You will create a similar network with 3 hidden layers (still keeping 50 units in each layer).\n",
        "\n",
        "This will again take a moment to fit both models, so you'll need to wait a few seconds to see the results after you run your code."
      ],
      "metadata": {
        "id": "LLHbHKOhcBNF"
      }
    },
    {
      "cell_type": "code",
      "source": [
        "# The input shape to use in the first hidden layer\n",
        "input_shape = (n_cols,)\n",
        "\n",
        "# Create the new model: model_2\n",
        "model_2 = Sequential()\n",
        "\n",
        "# Add the first, second, and third hidden layers\n",
        "model_2.add(Dense(50,activation='relu',input_shape=input_shape))\n",
        "model_2.add(Dense(50,activation='relu',input_shape=input_shape))\n",
        "model_2.add(Dense(50,activation='relu',input_shape=input_shape))\n",
        "\n",
        "# Add the output layer\n",
        "model_2.add(Dense(2,activation='softmax'))\n",
        "\n",
        "# Compile model_2\n",
        "model_2.compile(optimizer='adam',loss='categorical_crossentropy',metrics=['accuracy'])\n",
        "\n",
        "# Fit model 1\n",
        "model_1_training = model_1.fit(predictors, target, epochs=20, validation_split=0.4, callbacks=[early_stopping_monitor], verbose=False)\n",
        "\n",
        "# Fit model 2\n",
        "model_2_training = model_2.fit(predictors, target, epochs=20, validation_split=0.4, callbacks=[early_stopping_monitor], verbose=False)\n",
        "\n",
        "# Create the plot\n",
        "plt.plot(model_1_training.history['val_loss'], 'r', model_2_training.history['val_loss'], 'b')\n",
        "plt.xlabel('Epochs')\n",
        "plt.ylabel('Validation score')\n",
        "plt.show()"
      ],
      "metadata": {
        "id": "1oDsX-50dSz-"
      },
      "execution_count": null,
      "outputs": []
    },
    {
      "cell_type": "markdown",
      "source": [
        "## Building your own digit recognition model\n",
        "\n",
        "You've reached the final exercise of the course - you now know everything you need to build an accurate model to recognize handwritten digits!\n",
        "\n",
        "We've already done the basic manipulation of the MNIST dataset shown in the video, so you have X and y loaded and ready to model with. `Sequential` and `Dense` from Keras are also pre-imported.\n",
        "\n",
        "To add an extra challenge, we've loaded only 2500 images, rather than 60000 which you will see in some published results. Deep learning models perform better with more data, however, they also take longer to train, especially when they start becoming more complex.\n",
        "\n",
        "If you have a computer with a CUDA compatible GPU, you can take advantage of it to improve computation time. If you don't have a GPU, no problem! You can set up a deep learning environment in the cloud that can run your models on a GPU. Here is a `blog post` by Dan that explains how to do this - check it out after completing this exercise! It is a great next step as you continue your deep learning journey.\n",
        "\n",
        "*blog post: https://www.datacamp.com/tutorial/deep-learning-jupyter-aws  "
      ],
      "metadata": {
        "id": "1WfHbDwoejcR"
      }
    },
    {
      "cell_type": "code",
      "source": [
        "# Create the model: model\n",
        "model = Sequential()\n",
        "\n",
        "# Add the first hidden layer\n",
        "model.add(Dense(50,activation='relu',input_shape=(784,)))\n",
        "\n",
        "# Add the second hidden layer\n",
        "model.add(Dense(50,activation='relu'))\n",
        "\n",
        "# Add the output layer\n",
        "model.add(Dense(10,activation='softmax'))\n",
        "\n",
        "# Compile the model\n",
        "model.compile(optimizer='adam',loss='categorical_crossentropy',metrics=['accuracy'])\n",
        "\n",
        "# Fit the model\n",
        "model.fit(X,y,validation_split=0.3)"
      ],
      "metadata": {
        "id": "x-R4M3Z2gAKX"
      },
      "execution_count": null,
      "outputs": []
    }
  ]
}