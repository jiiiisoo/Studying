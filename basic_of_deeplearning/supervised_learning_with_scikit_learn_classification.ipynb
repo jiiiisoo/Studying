{
  "nbformat": 4,
  "nbformat_minor": 0,
  "metadata": {
    "colab": {
      "name": "supervised learning with scikit learn_classification.ipynb",
      "provenance": [],
      "collapsed_sections": [
        "8NUv9ejbmkxP",
        "YFpkrQlhoE-p",
        "nXrB1LVkWWu5",
        "57iGJUMDC9M2",
        "8B8PgDj6GOxe",
        "lyiJtZuCIJjm"
      ],
      "toc_visible": true,
      "mount_file_id": "1j7qHgkX-pfnjAIOF-N4ErU3EN_7agXBn",
      "authorship_tag": "ABX9TyN7YTTTMeYRnoUu3HfJ/3sK",
      "include_colab_link": true
    },
    "kernelspec": {
      "name": "python3",
      "display_name": "Python 3"
    },
    "language_info": {
      "name": "python"
    }
  },
  "cells": [
    {
      "cell_type": "markdown",
      "metadata": {
        "id": "view-in-github",
        "colab_type": "text"
      },
      "source": [
        "<a href=\"https://colab.research.google.com/github/jiiiisoo/Studying/blob/main/basic_of_deeplearning/supervised_learning_with_scikit_learn_classification.ipynb\" target=\"_parent\"><img src=\"https://colab.research.google.com/assets/colab-badge.svg\" alt=\"Open In Colab\"/></a>"
      ]
    },
    {
      "cell_type": "markdown",
      "source": [
        "# **Supervised Learning with scikit learn**"
      ],
      "metadata": {
        "id": "bFzmdFAQdtji"
      }
    },
    {
      "cell_type": "markdown",
      "source": [
        "#CLASSIFICATION"
      ],
      "metadata": {
        "id": "PL6lWndjDe2p"
      }
    },
    {
      "cell_type": "markdown",
      "source": [
        "## Numerical EDA"
      ],
      "metadata": {
        "id": "8NUv9ejbmkxP"
      }
    },
    {
      "cell_type": "markdown",
      "source": [
        "Numerical EDA In this chapter, you'll be working with a dataset obtained from the UCI Machine Learning Repository consisting of votes made by US House of Representatives Congressmen. Your goal will be to predict their party affiliation ('Democrat' or 'Republican') based on how they voted on certain key issues. Here, it's worth noting that we have preprocessed this dataset to deal with missing values. This is so that your focus can be directed towards understanding how to train and evaluate supervised learning models. Once you have mastered these fundamentals, you will be introduced to preprocessing techniques in Chapter 4 and have the chance to apply them there yourself - including on this very same dataset!\n",
        "\n",
        "Before thinking about what supervised learning models you can apply to this, however, you need to perform Exploratory data analysis (EDA) in order to understand the structure of the data. For a refresher on the importance of EDA, check out the first two chapters of Statistical Thinking in Python (Part 1).\n",
        "\n",
        "Get started with your EDA now by exploring this voting records dataset numerically. It has been pre-loaded for you into a DataFrame called df. Use pandas' .head(), .info(), and .describe() methods in the IPython Shell to explore the DataFrame, and select the statement below that is not true."
      ],
      "metadata": {
        "id": "SqYa-EZol_aW"
      }
    },
    {
      "cell_type": "code",
      "source": [
        "#load data\n",
        "from sklearn import datasets\n",
        "import pandas as pd\n",
        "import numpy as np\n",
        "import matplotlib.pyplot as plt\n",
        "\n",
        "df = pd.read_csv('/content/drive/MyDrive/datacamp/house-votes-84.data', header=None)\n",
        "#preprocessing\n",
        "df.columns = ['party', 'infants', 'water', 'budget', 'physician', 'salvador',\n",
        "       'religious', 'satellite', 'aid', 'missile', 'immigration', 'synfuels',\n",
        "       'education', 'superfund', 'crime', 'duty_free_exports', 'eaa_rsa']\n",
        "df.replace({'?':'n'}, inplace=True)\n",
        "df.replace({'n':0, 'y': 1}, inplace=True)"
      ],
      "metadata": {
        "id": "4cU3DxqteDrJ"
      },
      "execution_count": null,
      "outputs": []
    },
    {
      "cell_type": "code",
      "source": [
        "print(df.head())\n",
        "df.info()\n",
        "df.describe()"
      ],
      "metadata": {
        "id": "OSiTcx85ea_n",
        "colab": {
          "base_uri": "https://localhost:8080/",
          "height": 1000
        },
        "outputId": "431c96be-7d3a-4c10-b082-8796177ac2c4"
      },
      "execution_count": null,
      "outputs": [
        {
          "output_type": "stream",
          "name": "stdout",
          "text": [
            "        party  infants  water  budget  physician  salvador  religious  \\\n",
            "0  republican        0      1       0          1         1          1   \n",
            "1  republican        0      1       0          1         1          1   \n",
            "2    democrat        0      1       1          0         1          1   \n",
            "3    democrat        0      1       1          0         0          1   \n",
            "4    democrat        1      1       1          0         1          1   \n",
            "\n",
            "   satellite  aid  missile  immigration  synfuels  education  superfund  \\\n",
            "0          0    0        0            1         0          1          1   \n",
            "1          0    0        0            0         0          1          1   \n",
            "2          0    0        0            0         1          0          1   \n",
            "3          0    0        0            0         1          0          1   \n",
            "4          0    0        0            0         1          0          1   \n",
            "\n",
            "   crime  duty_free_exports  eaa_rsa  \n",
            "0      1                  0        1  \n",
            "1      1                  0        0  \n",
            "2      1                  0        0  \n",
            "3      0                  0        1  \n",
            "4      1                  1        1  \n",
            "<class 'pandas.core.frame.DataFrame'>\n",
            "RangeIndex: 435 entries, 0 to 434\n",
            "Data columns (total 17 columns):\n",
            " #   Column             Non-Null Count  Dtype \n",
            "---  ------             --------------  ----- \n",
            " 0   party              435 non-null    object\n",
            " 1   infants            435 non-null    int64 \n",
            " 2   water              435 non-null    int64 \n",
            " 3   budget             435 non-null    int64 \n",
            " 4   physician          435 non-null    int64 \n",
            " 5   salvador           435 non-null    int64 \n",
            " 6   religious          435 non-null    int64 \n",
            " 7   satellite          435 non-null    int64 \n",
            " 8   aid                435 non-null    int64 \n",
            " 9   missile            435 non-null    int64 \n",
            " 10  immigration        435 non-null    int64 \n",
            " 11  synfuels           435 non-null    int64 \n",
            " 12  education          435 non-null    int64 \n",
            " 13  superfund          435 non-null    int64 \n",
            " 14  crime              435 non-null    int64 \n",
            " 15  duty_free_exports  435 non-null    int64 \n",
            " 16  eaa_rsa            435 non-null    int64 \n",
            "dtypes: int64(16), object(1)\n",
            "memory usage: 57.9+ KB\n"
          ]
        },
        {
          "output_type": "execute_result",
          "data": {
            "text/plain": [
              "          infants       water      budget   physician    salvador   religious  \\\n",
              "count  435.000000  435.000000  435.000000  435.000000  435.000000  435.000000   \n",
              "mean     0.429885    0.448276    0.581609    0.406897    0.487356    0.625287   \n",
              "std      0.495630    0.497890    0.493863    0.491821    0.500416    0.484606   \n",
              "min      0.000000    0.000000    0.000000    0.000000    0.000000    0.000000   \n",
              "25%      0.000000    0.000000    0.000000    0.000000    0.000000    0.000000   \n",
              "50%      0.000000    0.000000    1.000000    0.000000    0.000000    1.000000   \n",
              "75%      1.000000    1.000000    1.000000    1.000000    1.000000    1.000000   \n",
              "max      1.000000    1.000000    1.000000    1.000000    1.000000    1.000000   \n",
              "\n",
              "        satellite         aid     missile  immigration    synfuels  \\\n",
              "count  435.000000  435.000000  435.000000   435.000000  435.000000   \n",
              "mean     0.549425    0.556322    0.475862     0.496552    0.344828   \n",
              "std      0.498124    0.497390    0.499992     0.500564    0.475859   \n",
              "min      0.000000    0.000000    0.000000     0.000000    0.000000   \n",
              "25%      0.000000    0.000000    0.000000     0.000000    0.000000   \n",
              "50%      1.000000    1.000000    0.000000     0.000000    0.000000   \n",
              "75%      1.000000    1.000000    1.000000     1.000000    1.000000   \n",
              "max      1.000000    1.000000    1.000000     1.000000    1.000000   \n",
              "\n",
              "        education   superfund       crime  duty_free_exports     eaa_rsa  \n",
              "count  435.000000  435.000000  435.000000         435.000000  435.000000  \n",
              "mean     0.393103    0.480460    0.570115           0.400000    0.618391  \n",
              "std      0.489002    0.500193    0.495630           0.490462    0.486341  \n",
              "min      0.000000    0.000000    0.000000           0.000000    0.000000  \n",
              "25%      0.000000    0.000000    0.000000           0.000000    0.000000  \n",
              "50%      0.000000    0.000000    1.000000           0.000000    1.000000  \n",
              "75%      1.000000    1.000000    1.000000           1.000000    1.000000  \n",
              "max      1.000000    1.000000    1.000000           1.000000    1.000000  "
            ],
            "text/html": [
              "\n",
              "  <div id=\"df-de15a603-fe7f-44bc-84c4-f985183d3e4c\">\n",
              "    <div class=\"colab-df-container\">\n",
              "      <div>\n",
              "<style scoped>\n",
              "    .dataframe tbody tr th:only-of-type {\n",
              "        vertical-align: middle;\n",
              "    }\n",
              "\n",
              "    .dataframe tbody tr th {\n",
              "        vertical-align: top;\n",
              "    }\n",
              "\n",
              "    .dataframe thead th {\n",
              "        text-align: right;\n",
              "    }\n",
              "</style>\n",
              "<table border=\"1\" class=\"dataframe\">\n",
              "  <thead>\n",
              "    <tr style=\"text-align: right;\">\n",
              "      <th></th>\n",
              "      <th>infants</th>\n",
              "      <th>water</th>\n",
              "      <th>budget</th>\n",
              "      <th>physician</th>\n",
              "      <th>salvador</th>\n",
              "      <th>religious</th>\n",
              "      <th>satellite</th>\n",
              "      <th>aid</th>\n",
              "      <th>missile</th>\n",
              "      <th>immigration</th>\n",
              "      <th>synfuels</th>\n",
              "      <th>education</th>\n",
              "      <th>superfund</th>\n",
              "      <th>crime</th>\n",
              "      <th>duty_free_exports</th>\n",
              "      <th>eaa_rsa</th>\n",
              "    </tr>\n",
              "  </thead>\n",
              "  <tbody>\n",
              "    <tr>\n",
              "      <th>count</th>\n",
              "      <td>435.000000</td>\n",
              "      <td>435.000000</td>\n",
              "      <td>435.000000</td>\n",
              "      <td>435.000000</td>\n",
              "      <td>435.000000</td>\n",
              "      <td>435.000000</td>\n",
              "      <td>435.000000</td>\n",
              "      <td>435.000000</td>\n",
              "      <td>435.000000</td>\n",
              "      <td>435.000000</td>\n",
              "      <td>435.000000</td>\n",
              "      <td>435.000000</td>\n",
              "      <td>435.000000</td>\n",
              "      <td>435.000000</td>\n",
              "      <td>435.000000</td>\n",
              "      <td>435.000000</td>\n",
              "    </tr>\n",
              "    <tr>\n",
              "      <th>mean</th>\n",
              "      <td>0.429885</td>\n",
              "      <td>0.448276</td>\n",
              "      <td>0.581609</td>\n",
              "      <td>0.406897</td>\n",
              "      <td>0.487356</td>\n",
              "      <td>0.625287</td>\n",
              "      <td>0.549425</td>\n",
              "      <td>0.556322</td>\n",
              "      <td>0.475862</td>\n",
              "      <td>0.496552</td>\n",
              "      <td>0.344828</td>\n",
              "      <td>0.393103</td>\n",
              "      <td>0.480460</td>\n",
              "      <td>0.570115</td>\n",
              "      <td>0.400000</td>\n",
              "      <td>0.618391</td>\n",
              "    </tr>\n",
              "    <tr>\n",
              "      <th>std</th>\n",
              "      <td>0.495630</td>\n",
              "      <td>0.497890</td>\n",
              "      <td>0.493863</td>\n",
              "      <td>0.491821</td>\n",
              "      <td>0.500416</td>\n",
              "      <td>0.484606</td>\n",
              "      <td>0.498124</td>\n",
              "      <td>0.497390</td>\n",
              "      <td>0.499992</td>\n",
              "      <td>0.500564</td>\n",
              "      <td>0.475859</td>\n",
              "      <td>0.489002</td>\n",
              "      <td>0.500193</td>\n",
              "      <td>0.495630</td>\n",
              "      <td>0.490462</td>\n",
              "      <td>0.486341</td>\n",
              "    </tr>\n",
              "    <tr>\n",
              "      <th>min</th>\n",
              "      <td>0.000000</td>\n",
              "      <td>0.000000</td>\n",
              "      <td>0.000000</td>\n",
              "      <td>0.000000</td>\n",
              "      <td>0.000000</td>\n",
              "      <td>0.000000</td>\n",
              "      <td>0.000000</td>\n",
              "      <td>0.000000</td>\n",
              "      <td>0.000000</td>\n",
              "      <td>0.000000</td>\n",
              "      <td>0.000000</td>\n",
              "      <td>0.000000</td>\n",
              "      <td>0.000000</td>\n",
              "      <td>0.000000</td>\n",
              "      <td>0.000000</td>\n",
              "      <td>0.000000</td>\n",
              "    </tr>\n",
              "    <tr>\n",
              "      <th>25%</th>\n",
              "      <td>0.000000</td>\n",
              "      <td>0.000000</td>\n",
              "      <td>0.000000</td>\n",
              "      <td>0.000000</td>\n",
              "      <td>0.000000</td>\n",
              "      <td>0.000000</td>\n",
              "      <td>0.000000</td>\n",
              "      <td>0.000000</td>\n",
              "      <td>0.000000</td>\n",
              "      <td>0.000000</td>\n",
              "      <td>0.000000</td>\n",
              "      <td>0.000000</td>\n",
              "      <td>0.000000</td>\n",
              "      <td>0.000000</td>\n",
              "      <td>0.000000</td>\n",
              "      <td>0.000000</td>\n",
              "    </tr>\n",
              "    <tr>\n",
              "      <th>50%</th>\n",
              "      <td>0.000000</td>\n",
              "      <td>0.000000</td>\n",
              "      <td>1.000000</td>\n",
              "      <td>0.000000</td>\n",
              "      <td>0.000000</td>\n",
              "      <td>1.000000</td>\n",
              "      <td>1.000000</td>\n",
              "      <td>1.000000</td>\n",
              "      <td>0.000000</td>\n",
              "      <td>0.000000</td>\n",
              "      <td>0.000000</td>\n",
              "      <td>0.000000</td>\n",
              "      <td>0.000000</td>\n",
              "      <td>1.000000</td>\n",
              "      <td>0.000000</td>\n",
              "      <td>1.000000</td>\n",
              "    </tr>\n",
              "    <tr>\n",
              "      <th>75%</th>\n",
              "      <td>1.000000</td>\n",
              "      <td>1.000000</td>\n",
              "      <td>1.000000</td>\n",
              "      <td>1.000000</td>\n",
              "      <td>1.000000</td>\n",
              "      <td>1.000000</td>\n",
              "      <td>1.000000</td>\n",
              "      <td>1.000000</td>\n",
              "      <td>1.000000</td>\n",
              "      <td>1.000000</td>\n",
              "      <td>1.000000</td>\n",
              "      <td>1.000000</td>\n",
              "      <td>1.000000</td>\n",
              "      <td>1.000000</td>\n",
              "      <td>1.000000</td>\n",
              "      <td>1.000000</td>\n",
              "    </tr>\n",
              "    <tr>\n",
              "      <th>max</th>\n",
              "      <td>1.000000</td>\n",
              "      <td>1.000000</td>\n",
              "      <td>1.000000</td>\n",
              "      <td>1.000000</td>\n",
              "      <td>1.000000</td>\n",
              "      <td>1.000000</td>\n",
              "      <td>1.000000</td>\n",
              "      <td>1.000000</td>\n",
              "      <td>1.000000</td>\n",
              "      <td>1.000000</td>\n",
              "      <td>1.000000</td>\n",
              "      <td>1.000000</td>\n",
              "      <td>1.000000</td>\n",
              "      <td>1.000000</td>\n",
              "      <td>1.000000</td>\n",
              "      <td>1.000000</td>\n",
              "    </tr>\n",
              "  </tbody>\n",
              "</table>\n",
              "</div>\n",
              "      <button class=\"colab-df-convert\" onclick=\"convertToInteractive('df-de15a603-fe7f-44bc-84c4-f985183d3e4c')\"\n",
              "              title=\"Convert this dataframe to an interactive table.\"\n",
              "              style=\"display:none;\">\n",
              "        \n",
              "  <svg xmlns=\"http://www.w3.org/2000/svg\" height=\"24px\"viewBox=\"0 0 24 24\"\n",
              "       width=\"24px\">\n",
              "    <path d=\"M0 0h24v24H0V0z\" fill=\"none\"/>\n",
              "    <path d=\"M18.56 5.44l.94 2.06.94-2.06 2.06-.94-2.06-.94-.94-2.06-.94 2.06-2.06.94zm-11 1L8.5 8.5l.94-2.06 2.06-.94-2.06-.94L8.5 2.5l-.94 2.06-2.06.94zm10 10l.94 2.06.94-2.06 2.06-.94-2.06-.94-.94-2.06-.94 2.06-2.06.94z\"/><path d=\"M17.41 7.96l-1.37-1.37c-.4-.4-.92-.59-1.43-.59-.52 0-1.04.2-1.43.59L10.3 9.45l-7.72 7.72c-.78.78-.78 2.05 0 2.83L4 21.41c.39.39.9.59 1.41.59.51 0 1.02-.2 1.41-.59l7.78-7.78 2.81-2.81c.8-.78.8-2.07 0-2.86zM5.41 20L4 18.59l7.72-7.72 1.47 1.35L5.41 20z\"/>\n",
              "  </svg>\n",
              "      </button>\n",
              "      \n",
              "  <style>\n",
              "    .colab-df-container {\n",
              "      display:flex;\n",
              "      flex-wrap:wrap;\n",
              "      gap: 12px;\n",
              "    }\n",
              "\n",
              "    .colab-df-convert {\n",
              "      background-color: #E8F0FE;\n",
              "      border: none;\n",
              "      border-radius: 50%;\n",
              "      cursor: pointer;\n",
              "      display: none;\n",
              "      fill: #1967D2;\n",
              "      height: 32px;\n",
              "      padding: 0 0 0 0;\n",
              "      width: 32px;\n",
              "    }\n",
              "\n",
              "    .colab-df-convert:hover {\n",
              "      background-color: #E2EBFA;\n",
              "      box-shadow: 0px 1px 2px rgba(60, 64, 67, 0.3), 0px 1px 3px 1px rgba(60, 64, 67, 0.15);\n",
              "      fill: #174EA6;\n",
              "    }\n",
              "\n",
              "    [theme=dark] .colab-df-convert {\n",
              "      background-color: #3B4455;\n",
              "      fill: #D2E3FC;\n",
              "    }\n",
              "\n",
              "    [theme=dark] .colab-df-convert:hover {\n",
              "      background-color: #434B5C;\n",
              "      box-shadow: 0px 1px 3px 1px rgba(0, 0, 0, 0.15);\n",
              "      filter: drop-shadow(0px 1px 2px rgba(0, 0, 0, 0.3));\n",
              "      fill: #FFFFFF;\n",
              "    }\n",
              "  </style>\n",
              "\n",
              "      <script>\n",
              "        const buttonEl =\n",
              "          document.querySelector('#df-de15a603-fe7f-44bc-84c4-f985183d3e4c button.colab-df-convert');\n",
              "        buttonEl.style.display =\n",
              "          google.colab.kernel.accessAllowed ? 'block' : 'none';\n",
              "\n",
              "        async function convertToInteractive(key) {\n",
              "          const element = document.querySelector('#df-de15a603-fe7f-44bc-84c4-f985183d3e4c');\n",
              "          const dataTable =\n",
              "            await google.colab.kernel.invokeFunction('convertToInteractive',\n",
              "                                                     [key], {});\n",
              "          if (!dataTable) return;\n",
              "\n",
              "          const docLinkHtml = 'Like what you see? Visit the ' +\n",
              "            '<a target=\"_blank\" href=https://colab.research.google.com/notebooks/data_table.ipynb>data table notebook</a>'\n",
              "            + ' to learn more about interactive tables.';\n",
              "          element.innerHTML = '';\n",
              "          dataTable['output_type'] = 'display_data';\n",
              "          await google.colab.output.renderOutput(dataTable, element);\n",
              "          const docLink = document.createElement('div');\n",
              "          docLink.innerHTML = docLinkHtml;\n",
              "          element.appendChild(docLink);\n",
              "        }\n",
              "      </script>\n",
              "    </div>\n",
              "  </div>\n",
              "  "
            ]
          },
          "metadata": {},
          "execution_count": 2
        }
      ]
    },
    {
      "cell_type": "markdown",
      "source": [
        "## Visual EDA"
      ],
      "metadata": {
        "id": "YFpkrQlhoE-p"
      }
    },
    {
      "cell_type": "markdown",
      "source": [
        "In the IPython Shell, explore the voting behavior further by generating countplots for the 'satellite' and 'missile' bills, and answer the following question: Of these two bills, for which ones do Democrats vote resoundingly in favor of, compared to Republicans? Be sure to begin your plotting statements for each figure with plt.figure() so that a new figure will be set up. Otherwise, your plots will be overlaid onto the same figure."
      ],
      "metadata": {
        "id": "s4_HdT5GoNKD"
      }
    },
    {
      "cell_type": "code",
      "source": [
        "import seaborn as sns\n",
        "graph1=plt.subplot(2,1,1)\n",
        "sns.countplot(x='satellite', hue='party', data=df,palette='RdBu')\n",
        "plt.xticks([0,1],['No','Yes'])\n",
        "graph2=plt.subplot(2,1,2)\n",
        "sns.countplot(x='missile', hue='party', data=df,palette='RdBu')\n",
        "plt.xticks([0,1],['No','Yes'])"
      ],
      "metadata": {
        "colab": {
          "base_uri": "https://localhost:8080/",
          "height": 333
        },
        "id": "cHtrfFmJoSFo",
        "outputId": "762584cc-56fa-49bd-cc44-ea1b0b6fabb7"
      },
      "execution_count": null,
      "outputs": [
        {
          "output_type": "execute_result",
          "data": {
            "text/plain": [
              "([<matplotlib.axis.XTick at 0x7f152abee490>,\n",
              "  <matplotlib.axis.XTick at 0x7f152abee450>],\n",
              " [Text(0, 0, 'No'), Text(0, 0, 'Yes')])"
            ]
          },
          "metadata": {},
          "execution_count": 3
        },
        {
          "output_type": "display_data",
          "data": {
            "text/plain": [
              "<Figure size 432x288 with 2 Axes>"
            ],
            "image/png": "[encoded data removed]"
          },
          "metadata": {
            "needs_background": "light"
          }
        }
      ]
    },
    {
      "cell_type": "markdown",
      "source": [
        "## k-Nearest Neighbors\n",
        "\n",
        "1.   Fit\n",
        "\n"
      ],
      "metadata": {
        "id": "nXrB1LVkWWu5"
      }
    },
    {
      "cell_type": "markdown",
      "source": [
        "Having explored the Congressional voting records dataset, it is time now to build your first classifier. In this exercise, you will fit a k-Nearest Neighbors classifier to the voting dataset, which has once again been pre-loaded for you into a DataFrame df.\n",
        "\n",
        "In the video, Hugo discussed the importance of ensuring your data adheres to the format required by the scikit-learn API. The features need to be in an array where each column is a feature and each row a different observation or data point - in this case, a Congressman's voting record. The target needs to be a single column with the same number of observations as the feature data. We have done this for you in this exercise. Notice we named the feature array X and response variable y: This is in accordance with the common scikit-learn practice.\n",
        "\n",
        "Your job is to create an instance of a k-NN classifier with 6 neighbors (by specifying the n_neighbors parameter) and then fit it to the data. The data has been pre-loaded into a DataFrame called df."
      ],
      "metadata": {
        "id": "qDcpB_gHWeYN"
      }
    },
    {
      "cell_type": "code",
      "source": [
        "# Import KNeighborsClassifier from sklearn.neighbors\n",
        "from sklearn.neighbors import KNeighborsClassifier\n",
        "\n",
        "\n",
        "# Create arrays for the features and the response variable\n",
        "y = df['party'].values\n",
        "X = df.drop('party', axis=1).values\n",
        "\n",
        "# Create a k-NN classifier with 6 neighbors\n",
        "knn = KNeighborsClassifier(n_neighbors=6)\n",
        "\n",
        "\n",
        "# Fit the classifier to the data\n",
        "knn.fit(X,y)"
      ],
      "metadata": {
        "colab": {
          "base_uri": "https://localhost:8080/"
        },
        "id": "5KMeKmPKWjAD",
        "outputId": "92c22bbb-d6f9-4f1c-df2f-84b896ea4ba5"
      },
      "execution_count": null,
      "outputs": [
        {
          "output_type": "execute_result",
          "data": {
            "text/plain": [
              "KNeighborsClassifier(n_neighbors=6)"
            ]
          },
          "metadata": {},
          "execution_count": 4
        }
      ]
    },
    {
      "cell_type": "markdown",
      "source": [
        "\n",
        "\n",
        "2.   predict\n",
        "\n",
        "Having fit a k-NN classifier, you can now use it to predict the label of a new data point. However, there is no unlabeled data available since all of it was used to fit the model! You can still use the .predict() method on the X that was used to fit the model, but it is not a good indicator of the model's ability to generalize to new, unseen data.\n",
        "\n",
        "In the next video, Hugo will discuss a solution to this problem. For now, a random unlabeled data point has been generated and is available to you as X_new. You will use your classifier to predict the label for this new data point, as well as on the training data X that the model has already seen. Using .predict() on X_new will generate 1 prediction, while using it on X will generate 435 predictions: 1 for each sample.\n",
        "\n",
        "The DataFrame has been pre-loaded as df. This time, you will create the feature array X and target variable array y yourself.\n",
        "\n"
      ],
      "metadata": {
        "id": "FEPJmapfW4qD"
      }
    },
    {
      "cell_type": "code",
      "source": [
        "# Predict the labels for the training data X\n",
        "y_pred = knn.predict(X)\n",
        "\n",
        "# Predict and print the label for the new data point X_new (if there is X_new)\n",
        "#new_prediction = knn.predict(X_new)\n",
        "#print(\"Prediction: {}\".format(new_prediction))"
      ],
      "metadata": {
        "id": "OPSzSrfPWpjN"
      },
      "execution_count": null,
      "outputs": []
    },
    {
      "cell_type": "code",
      "source": [
        ""
      ],
      "metadata": {
        "id": "Uy4kIjNgZTdQ"
      },
      "execution_count": null,
      "outputs": []
    },
    {
      "cell_type": "markdown",
      "source": [
        "## The digits recognition dataset"
      ],
      "metadata": {
        "id": "57iGJUMDC9M2"
      }
    },
    {
      "cell_type": "markdown",
      "source": [
        "Up until now, you have been performing binary classification, since the target variable had two possible outcomes. Hugo, however, got to perform multi-class classification in the videos, where the target variable could take on three possible outcomes. Why does he get to have all the fun?! In the following exercises, you'll be working with the MNIST digits recognition dataset, which has 10 classes, the digits 0 through 9! A reduced version of the MNIST dataset is one of scikit-learn's included datasets, and that is the one we will use in this exercise.\n",
        "\n",
        "Each sample in this scikit-learn dataset is an 8x8 image representing a handwritten digit. Each pixel is represented by an integer in the range 0 to 16, indicating varying levels of black. Recall that scikit-learn's built-in datasets are of type Bunch, which are dictionary-like objects. Helpfully for the MNIST dataset, scikit-learn provides an 'images' key in addition to the 'data' and 'target' keys that you have seen with the Iris data. Because it is a 2D array of the images corresponding to each sample, this 'images' key is useful for visualizing the images, as you'll see in this exercise (for more on plotting 2D arrays, see Chapter 2 of DataCamp's course on Data Visualization with Python). On the other hand, the 'data' key contains the feature array - that is, the images as a flattened array of 64 pixels.\n",
        "\n",
        "Notice that you can access the keys of these Bunch objects in two different ways: By using the . notation, as in digits.images, or the [] notation, as in digits['images'].\n",
        "\n",
        "For more on the MNIST data, check out this exercise in Part 1 of DataCamp's Importing Data in Python course. There, the full version of the MNIST dataset is used, in which the images are 28x28. It is a famous dataset in machine learning and computer vision, and frequently used as a benchmark to evaluate the performance of a new model."
      ],
      "metadata": {
        "id": "C-STgip9DJZP"
      }
    },
    {
      "cell_type": "code",
      "source": [
        "# Import necessary modules\n",
        "from sklearn import datasets\n",
        "import matplotlib.pyplot as plt\n",
        "\n",
        "# Load the digits dataset: digits\n",
        "digits = datasets.load_digits()\n",
        "\n",
        "# Print the keys and DESCR of the dataset\n",
        "print(digits.keys())\n",
        "print(digits['DESCR'])\n",
        "\n",
        "# Print the shape of the images and data keys\n",
        "print(digits.images.shape)\n",
        "print(digits.data.shape)\n",
        "\n",
        "# Display digit 1010\n",
        "plt.imshow(digits.images[1010], cmap=plt.cm.gray_r, interpolation='nearest')\n",
        "plt.show()"
      ],
      "metadata": {
        "colab": {
          "base_uri": "https://localhost:8080/",
          "height": 1000
        },
        "id": "acZf1upwDsX9",
        "outputId": "63c313fc-9bae-47c4-ae88-1f9f4588f21d"
      },
      "execution_count": null,
      "outputs": [
        {
          "output_type": "stream",
          "name": "stdout",
          "text": [
            "dict_keys(['data', 'target', 'frame', 'feature_names', 'target_names', 'images', 'DESCR'])\n",
            ".. _digits_dataset:\n",
            "\n",
            "Optical recognition of handwritten digits dataset\n",
            "--------------------------------------------------\n",
            "\n",
            "**Data Set Characteristics:**\n",
            "\n",
            "    :Number of Instances: 1797\n",
            "    :Number of Attributes: 64\n",
            "    :Attribute Information: 8x8 image of integer pixels in the range 0..16.\n",
            "    :Missing Attribute Values: None\n",
            "    :Creator: E. Alpaydin (alpaydin '@' boun.edu.tr)\n",
            "    :Date: July; 1998\n",
            "\n",
            "This is a copy of the test set of the UCI ML hand-written digits datasets\n",
            "https://archive.ics.uci.edu/ml/datasets/Optical+Recognition+of+Handwritten+Digits\n",
            "\n",
            "The data set contains images of hand-written digits: 10 classes where\n",
            "each class refers to a digit.\n",
            "\n",
            "Preprocessing programs made available by NIST were used to extract\n",
            "normalized bitmaps of handwritten digits from a preprinted form. From a\n",
            "total of 43 people, 30 contributed to the training set and different 13\n",
            "to the test set. 32x32 bitmaps are divided into nonoverlapping blocks of\n",
            "4x4 and the number of on pixels are counted in each block. This generates\n",
            "an input matrix of 8x8 where each element is an integer in the range\n",
            "0..16. This reduces dimensionality and gives invariance to small\n",
            "distortions.\n",
            "\n",
            "For info on NIST preprocessing routines, see M. D. Garris, J. L. Blue, G.\n",
            "T. Candela, D. L. Dimmick, J. Geist, P. J. Grother, S. A. Janet, and C.\n",
            "L. Wilson, NIST Form-Based Handprint Recognition System, NISTIR 5469,\n",
            "1994.\n",
            "\n",
            ".. topic:: References\n",
            "\n",
            "  - C. Kaynak (1995) Methods of Combining Multiple Classifiers and Their\n",
            "    Applications to Handwritten Digit Recognition, MSc Thesis, Institute of\n",
            "    Graduate Studies in Science and Engineering, Bogazici University.\n",
            "  - E. Alpaydin, C. Kaynak (1998) Cascading Classifiers, Kybernetika.\n",
            "  - Ken Tang and Ponnuthurai N. Suganthan and Xi Yao and A. Kai Qin.\n",
            "    Linear dimensionalityreduction using relevance weighted LDA. School of\n",
            "    Electrical and Electronic Engineering Nanyang Technological University.\n",
            "    2005.\n",
            "  - Claudio Gentile. A New Approximate Maximal Margin Classification\n",
            "    Algorithm. NIPS. 2000.\n",
            "\n",
            "(1797, 8, 8)\n",
            "(1797, 64)\n"
          ]
        },
        {
          "output_type": "display_data",
          "data": {
            "text/plain": [
              "<Figure size 432x288 with 1 Axes>"
            ],
            "image/png": "[encoded data removed]"
          },
          "metadata": {
            "needs_background": "light"
          }
        }
      ]
    },
    {
      "cell_type": "markdown",
      "source": [
        "## Train/Test Split + Fit/Predict/Accuracy"
      ],
      "metadata": {
        "id": "8B8PgDj6GOxe"
      }
    },
    {
      "cell_type": "markdown",
      "source": [
        "Now that you have learned about the importance of splitting your data into training and test sets, it's time to practice doing this on the digits dataset! After creating arrays for the features and target variable, you will split them into training and test sets, fit a k-NN classifier to the training data, and then compute its accuracy using the .score() method."
      ],
      "metadata": {
        "id": "aQRWAGL7GSev"
      }
    },
    {
      "cell_type": "code",
      "source": [
        "# Import necessary modules\n",
        "from sklearn.neighbors import KNeighborsClassifier\n",
        "from sklearn.model_selection import train_test_split\n",
        "\n",
        "# Create feature and target arrays\n",
        "X = digits.data\n",
        "y = digits.target\n",
        "\n",
        "# Split into training and test set\n",
        "#Stratify the split according to the labels so that they are distributed in the training and test sets as they are in the original dataset.\n",
        "X_train, X_test, y_train, y_test = train_test_split(X, y, test_size = 0.2, random_state=42, stratify=y)\n",
        "\n",
        "# Create a k-NN classifier with 7 neighbors: knn\n",
        "knn = KNeighborsClassifier(n_neighbors=7)\n",
        "\n",
        "# Fit the classifier to the training data\n",
        "knn.fit(X_train,y_train)\n",
        "\n",
        "# Print the accuracy\n",
        "print(knn.score(X_test, y_test))"
      ],
      "metadata": {
        "colab": {
          "base_uri": "https://localhost:8080/"
        },
        "id": "xpIr4bLgGVjx",
        "outputId": "b0cc8669-bf90-4f56-f5ab-1aeae2dcd564"
      },
      "execution_count": null,
      "outputs": [
        {
          "output_type": "stream",
          "name": "stdout",
          "text": [
            "0.9833333333333333\n"
          ]
        }
      ]
    },
    {
      "cell_type": "markdown",
      "source": [
        "## Overfitting and underfitting"
      ],
      "metadata": {
        "id": "lyiJtZuCIJjm"
      }
    },
    {
      "cell_type": "markdown",
      "source": [
        "Remember the model complexity curve that Hugo showed in the video? You will now construct such a curve for the digits dataset! In this exercise, you will compute and plot the training and testing accuracy scores for a variety of different neighbor values. By observing how the accuracy scores differ for the training and testing sets with different values of k, you will develop your intuition for overfitting and underfitting.\n",
        "\n",
        "The training and testing sets are available to you in the workspace as X_train, X_test, y_train, y_test. In addition, KNeighborsClassifier has been imported from sklearn.neighbors."
      ],
      "metadata": {
        "id": "CYQ-ivXTIMWU"
      }
    },
    {
      "cell_type": "code",
      "source": [
        "import numpy as np\n",
        "# Setup arrays to store train and test accuracies\n",
        "neighbors = np.arange(1, 9)\n",
        "train_accuracy = np.empty(len(neighbors))\n",
        "test_accuracy = np.empty(len(neighbors))\n",
        "\n",
        "# Loop over different values of k\n",
        "for i, k in enumerate(neighbors):\n",
        "    # Setup a k-NN Classifier with k neighbors: knn\n",
        "    knn = KNeighborsClassifier(n_neighbors=k)\n",
        "\n",
        "    # Fit the classifier to the training data\n",
        "    knn.fit(X_train,y_train)\n",
        "    \n",
        "    #Compute accuracy on the training set\n",
        "    train_accuracy[i] = knn.score(X_train, y_train)\n",
        "\n",
        "    #Compute accuracy on the testing set\n",
        "    test_accuracy[i] = knn.score(X_test, y_test)\n",
        "\n",
        "# Generate plot\n",
        "plt.title('k-NN: Varying Number of Neighbors')\n",
        "plt.plot(neighbors, test_accuracy, label = 'Testing Accuracy')\n",
        "plt.plot(neighbors, train_accuracy, label = 'Training Accuracy')\n",
        "plt.legend()\n",
        "plt.xlabel('Number of Neighbors')\n",
        "plt.ylabel('Accuracy')\n",
        "plt.show()"
      ],
      "metadata": {
        "colab": {
          "base_uri": "https://localhost:8080/",
          "height": 295
        },
        "id": "SwDHlwL2IOwI",
        "outputId": "b9093f0c-cad4-4cbf-87c5-adb0d7e5f859"
      },
      "execution_count": null,
      "outputs": [
        {
          "output_type": "display_data",
          "data": {
            "text/plain": [
              "<Figure size 432x288 with 1 Axes>"
            ],
            "image/png": "[encoded data removed]"
          },
          "metadata": {
            "needs_background": "light"
          }
        }
      ]
    },
    {
      "cell_type": "code",
      "source": [
        ""
      ],
      "metadata": {
        "id": "G9VgT4jtKnmO"
      },
      "execution_count": null,
      "outputs": []
    }
  ]
}