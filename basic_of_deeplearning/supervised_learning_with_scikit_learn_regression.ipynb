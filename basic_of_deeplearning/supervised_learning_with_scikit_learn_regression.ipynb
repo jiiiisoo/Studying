{
  "nbformat": 4,
  "nbformat_minor": 0,
  "metadata": {
    "colab": {
      "name": "supervised learning with scikit learn_regression.ipynb",
      "provenance": [],
      "toc_visible": true,
      "authorship_tag": "ABX9TyM91FCGn3AUgdv3xs//DI78",
      "include_colab_link": true
    },
    "kernelspec": {
      "name": "python3",
      "display_name": "Python 3"
    },
    "language_info": {
      "name": "python"
    }
  },
  "cells": [
    {
      "cell_type": "markdown",
      "metadata": {
        "id": "view-in-github",
        "colab_type": "text"
      },
      "source": [
        "<a href=\"https://colab.research.google.com/github/jiiiisoo/Studying/blob/main/basic_of_deeplearning/supervised_learning_with_scikit_learn_regression.ipynb\" target=\"_parent\"><img src=\"https://colab.research.google.com/assets/colab-badge.svg\" alt=\"Open In Colab\"/></a>"
      ]
    },
    {
      "cell_type": "markdown",
      "source": [
        "# **Supervised Learning with scikit learn**"
      ],
      "metadata": {
        "id": "hiDHP5VqLV2h"
      }
    },
    {
      "cell_type": "markdown",
      "source": [
        "# REGRESSION"
      ],
      "metadata": {
        "id": "L3YTE5MxLjEw"
      }
    },
    {
      "cell_type": "markdown",
      "source": [
        "## Importing data for supervised learning"
      ],
      "metadata": {
        "id": "dQTXUxYwLmQ-"
      }
    },
    {
      "cell_type": "markdown",
      "source": [
        "In this chapter, you will work with Gapminder data that we have consolidated into one CSV file available in the workspace as 'gapminder.csv'. Specifically, your goal will be to use this data to predict the life expectancy in a given country based on features such as the country's GDP, fertility rate, and population. As in Chapter 1, the dataset has been preprocessed.\n",
        "\n",
        "Since the target variable here is quantitative, this is a regression problem. To begin, you will fit a linear regression with just one feature: 'fertility', which is the average number of children a woman in a given country gives birth to. In later exercises, you will use all the features to build regression models.\n",
        "\n",
        "Before that, however, you need to import the data and get it into the form needed by scikit-learn. This involves creating feature and target variable arrays. Furthermore, since you are going to use only one feature to begin with, you need to do some reshaping using NumPy's .reshape() method. Don't worry too much about this reshaping right now, but it is something you will have to do occasionally when working with scikit-learn so it is useful to practice."
      ],
      "metadata": {
        "id": "KoNDFyMTLr_p"
      }
    },
    {
      "cell_type": "code",
      "source": [
        "# Import numpy and pandas\n",
        "import numpy as np\n",
        "import pandas as pd\n",
        "\n",
        "# Read the CSV file into a DataFrame: df\n",
        "df = pd.read_csv('gapminder.csv')\n",
        "\n",
        "# Create arrays for features and target variable\n",
        "y = df['fertility'].values\n",
        "X = df['life'].values\n",
        "\n",
        "# Print the dimensions of y and X before reshaping\n",
        "print(\"Dimensions of y before reshaping: \", y.shape)\n",
        "print(\"Dimensions of X before reshaping: \", X.shape)\n",
        "\n",
        "# Reshape X and y\n",
        "y_reshaped = y.reshape(-1,1)\n",
        "X_reshaped = X.reshape(-1,1)\n",
        "\n",
        "# Print the dimensions of y_reshaped and X_reshaped\n",
        "print(\"Dimensions of y after reshaping: \", y_reshaped.shape)\n",
        "print(\"Dimensions of X after reshaping: \", X_reshaped.shape)"
      ],
      "metadata": {
        "id": "6bYDpV-LLus6"
      },
      "execution_count": null,
      "outputs": []
    }
  ]
}