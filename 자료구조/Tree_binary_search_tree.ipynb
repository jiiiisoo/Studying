{
  "nbformat": 4,
  "nbformat_minor": 0,
  "metadata": {
    "colab": {
      "name": "Tree_binary search tree.ipynb",
      "provenance": [],
      "authorship_tag": "ABX9TyPMNeIhsbvo4xpoPZF24y7D",
      "include_colab_link": true
    },
    "kernelspec": {
      "name": "python3",
      "display_name": "Python 3"
    },
    "language_info": {
      "name": "python"
    }
  },
  "cells": [
    {
      "cell_type": "markdown",
      "metadata": {
        "id": "view-in-github",
        "colab_type": "text"
      },
      "source": [
        "<a href=\"https://colab.research.google.com/github/jiiiisoo/Studying/blob/main/%EC%9E%90%EB%A3%8C%EA%B5%AC%EC%A1%B0/Tree_binary_search_tree.ipynb\" target=\"_parent\"><img src=\"https://colab.research.google.com/assets/colab-badge.svg\" alt=\"Open In Colab\"/></a>"
      ]
    },
    {
      "cell_type": "markdown",
      "source": [
        "***이진 탐색 트리(Binary Search Tree)***\n",
        "\n",
        "보통 딕셔너리, 세트를 구현할 때 사용한다. 이진 탐색 트리는 이진 트리로 이루어져 있으며, 현재 노드에서 왼쪽 부분트리는 현재 노드보다 작은 데이터들이, 오른쪽 부분 트리는 현재 노드보다 큰 데이터들이 저장되어있는 형태로 모든 노드들에 대하여 이 규칙이 적용된다. 따라서 원하는 데이터를 찾을 때 유용하게 쓸 수 있다.\n",
        "\n",
        "이 때, 이진 탐색 트리는 완전 이진 트리가 아닐 수도 있다. 따라서 배열이 아닌 노드를 이용해서 데이터들을 저장한다. 여기서 이진 트리의 노드와의 차이점은 부모노드의 레퍼런스까지  저장한다는 것이다. 더블리 링크드 리스트와 비슷하다고 생각하면 된다."
      ],
      "metadata": {
        "id": "v-Wpfszo_QOo"
      }
    },
    {
      "cell_type": "code",
      "source": [
        "#Binary Search Tree Node\n",
        "class Node:\n",
        "  def __init__(self,data):\n",
        "    self.data=data\n",
        "    self.parent=None\n",
        "    self.left_child=None\n",
        "    self.right_child=None"
      ],
      "metadata": {
        "id": "LibbikaiAmaO"
      },
      "execution_count": null,
      "outputs": []
    },
    {
      "cell_type": "markdown",
      "source": [
        "***이진 탐색 트리 출력***\n",
        "\n",
        "이진 탐색 트리의 이러한 특성 때문에 in-order 순회를 이진탐색에서 구현하면 데이터 크기 순서대로 저장된 데이터들이 출력되는 것을 볼 수 있다.\n",
        "\n",
        "(in-order 순회: 왼쪽 부분 트리 in-order 순회 -> 현재 노드 출력 -> 오른쪽 부분 트리 in-order 순회)\n",
        "\n",
        "***이진 탐색 트리 삽입***\n",
        "\n",
        "새로운 노드 생성 -> root노드부터 비교하며 원하는 위치 찾음 -> 찾은 위치에 새롭게 만든 노드 연결\n",
        "\n",
        "시간 복잡도\n",
        "\n",
        "새로운 노드 생성:O(1)\n",
        "\n",
        "원하는 위치 찾음: 최악의 경우 높이만큼 한 번씩 비교해야하므로 O(h+1)\n",
        "\n",
        "노드 연결: O(1)\n",
        "\n",
        "따라서 O(h)이다."
      ],
      "metadata": {
        "id": "HL0Zpnl9BIqG"
      }
    },
    {
      "cell_type": "code",
      "source": [
        "#주어진 노드 in-order 순회로 출력해주는 함수\n",
        "def print_inorder(node):\n",
        "  if node!=None:\n",
        "    print_inorder(node.left_child)\n",
        "    print(node.data)\n",
        "    print_inorder(node.right_child)\n",
        "\n",
        "#Binary Search Tree Class\n",
        "class BinarySearchTree:\n",
        "  def __init__(self):\n",
        "    self.root=None\n",
        "\n",
        "  #이진 탐색 트리 내의 데이터 크기 순서대로 출력\n",
        "  def print_sorted_tree(self):\n",
        "    print_inorder(self.root)\n",
        "  "
      ],
      "metadata": {
        "id": "pWEHPqFsBeyM"
      },
      "execution_count": null,
      "outputs": []
    }
  ]
}