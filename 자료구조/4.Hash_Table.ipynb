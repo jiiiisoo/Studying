{
  "nbformat": 4,
  "nbformat_minor": 0,
  "metadata": {
    "colab": {
      "name": "Hash Table.ipynb",
      "provenance": [],
      "authorship_tag": "ABX9TyPBRSRAFj228rHzBo9bQnDy",
      "include_colab_link": true
    },
    "kernelspec": {
      "name": "python3",
      "display_name": "Python 3"
    },
    "language_info": {
      "name": "python"
    }
  },
  "cells": [
    {
      "cell_type": "markdown",
      "metadata": {
        "id": "view-in-github",
        "colab_type": "text"
      },
      "source": [
        "<a href=\"https://colab.research.google.com/github/jiiiisoo/Studying/blob/main/%EC%9E%90%EB%A3%8C%EA%B5%AC%EC%A1%B0/4.Hash_Table.ipynb\" target=\"_parent\"><img src=\"https://colab.research.google.com/assets/colab-badge.svg\" alt=\"Open In Colab\"/></a>"
      ]
    },
    {
      "cell_type": "markdown",
      "source": [
        "***direct access table***\n",
        "\n",
        "key-value 이용해서 데이터를 저장한다. 장점은 key를 인덱스처럼 사용하여 원하는 데이터를 가져올 때 O(1)만큼이 걸리지만, 예를 들어 2,58,63,987 key를 사용하여 데이터를 저장한다고 하면 공간이 987이 드는데 쓰는 공간은 4개밖에 없어 공간 낭비가 심할 수 있다.\n",
        "\n",
        "***Hash table***\n",
        "\n",
        "Hash table은 위의 테이블의 공간낭비 단점을 최소화 하는 table이다. Hash 함수를 사용하는데, 이는 key 값을 원하는 범위의 자연수로 바꿔주는 함수이다. 이렇게 자연수의 인덱스에 key, value 두 값을 모두 저장한 테이블을 hash table이라고 하고, 이는 공간 활용에도 용이하다.\n",
        "\n",
        "***Hash 함수***\n",
        "\n",
        "hash 함수는 결정론적이어야 한다. 동일한 key값을 넣으면 항상 같은 숫자가 나와야 한다. 또 여러 key 값을 넣었을 때, 그에 해당하는 숫자들은 항상 달라야 한다. 마지막으로 빨리 계산할 수 있어야 한다.\n",
        "\n",
        "1. 나누기 방법\n",
        "\n",
        "자연수 key를 해시 테이블의 크기로 나눈 나머지를 리턴한다.\n",
        "\n",
        "2. 곱셈 방법\n",
        "\n",
        "0<a<1인 a를 정해주고 a에 key를 곱한 뒤, 정수 부분은 버리고 소수 부분만 남긴다.여기에 배열의 크기만큼을 곱하고 소수부분은 버리고 정수 부분만 남긴다.\n",
        "\n",
        "3. 파이썬 hash 함수\n",
        "\n",
        "파라미터로 받은 값을 아무 정수로나 바꿔준다. (원하는 범위는 아님) 그리고 hash 함수에서는 불변 타입 자료형이면 key 값이 숫자가 아니어도 정수로 바꿔준다.\n",
        "\n",
        "불변 타입 자료: 불린형, 정수형, 소수형, 튜플, 문자열"
      ],
      "metadata": {
        "id": "imp6C_mJtfN1"
      }
    },
    {
      "cell_type": "code",
      "source": [
        "#나누기 방법\n",
        "def hash_function_remainder(key, array_size):\n",
        "  return key % array_size\n",
        "\n",
        "#곱셈 방법\n",
        "def hash_function_multiplication(key, array_size, a):\n",
        "  temp = a * key # a와 key를 곱한다\n",
        "  temp = temp - int(temp) # a와 key를 곱한 값의 소숫점 오른쪽 부분만 저장한다\n",
        "  return int(array_size * temp) # temp와 배열 크기를 곱한 수의 자연수 부분만 리턴한다"
      ],
      "metadata": {
        "id": "sjRzwFHT1uu4"
      },
      "execution_count": null,
      "outputs": []
    },
    {
      "cell_type": "markdown",
      "source": [
        "하지만 hash table의 단점 중 하나는 collision(충돌)이 일어나는 것이다. 즉, 다른 key값들을 같은 숫자로 지정하면 한 인덱스에는 여러 key값을 저장할 수 없기 때문에 문제가 생긴다.\n",
        "\n",
        "이를 해결하기 위한 한 방법으로는 chaining을 이용하는 것이다. 이는 같은 숫자가 나오면, 숫자, 즉 인덱스에 linked list를 저장하고 같은 인덱스가 나오면 key, value값을 이 linked list에 저장하는 것이다. 이렇게 하면 같은 숫자가 나오더라고 같은 인덱스 안에 여러 key, value값을 저장할 수 있다."
      ],
      "metadata": {
        "id": "ny9oicKO3JlX"
      }
    },
    {
      "cell_type": "code",
      "source": [
        "#인덱스 안의 linkedlist 위한 node\n",
        "class Node:\n",
        "  def __init__(self,key,value):\n",
        "    self.key=key\n",
        "    self.value=value\n",
        "    self.next=None\n",
        "    self.prev=None\n",
        "\n",
        "#linked list 클래스\n",
        "class LinkedList:\n",
        "  def __init__(self): #Single과 마찬가지로 head, tail 지정\n",
        "    self.head=None\n",
        "    self.tail=None\n",
        "\n",
        "  #linkedlist 탐색연산 (Single과 동일)\n",
        "  def find_node_with_key(self,key):\n",
        "    iterator=self.head\n",
        "    while iterator!=None:\n",
        "      if iterator.key==key:\n",
        "        return iterator\n",
        "      iterator=iterator.next\n",
        "    return None #찾는 데이터가 list에 없으면 none 출력\n",
        "\n",
        "  #linkedlist 추가연산\n",
        "  def append(self,key,value): \n",
        "    new_node=Node(key,value)\n",
        "    if self.head==None: #linkedlist 비어 있는 경우\n",
        "      self.head=new_node\n",
        "      self.tail=new_node\n",
        "    else: #linkedlist 비어있지 않은 경우\n",
        "      self.tail.next=new_node\n",
        "      new_node.prev=self.tail\n",
        "      self.tail=new_node\n",
        "\n",
        "  #linkedlist 삭제연산\n",
        "  def delete(self, node_to_delete): #직접 삭제하고 싶은 node를 파라미터로 받음\n",
        "    if self.tail==self.head:\n",
        "        self.head=None\n",
        "        self.tail=None\n",
        "    elif node_to_delete==self.head:\n",
        "        self.head=self.head.next\n",
        "        self.head.prev=None\n",
        "    elif node_to_delete==self.tail:\n",
        "        self.tail=self.tail.prev\n",
        "        self.tail.next=None\n",
        "    else:\n",
        "        node_to_delete.prev.next=node_to_delete.next\n",
        "        node_to_delete.next.prev=node_to_delete.prev\n",
        "\n",
        "  #linkedlist 데이터 문자열로 출력 (Single과 동일)\n",
        "  def __str__(self):\n",
        "    res_str=\"\"\n",
        "    iterator=self.head\n",
        "    while iterator!=None:\n",
        "      res_str+=\"{}: {}\\n\".format(iterator.key,iterator.value)\n",
        "      iterator=iterator.next\n",
        "    return res_str"
      ],
      "metadata": {
        "id": "dL2acMqM4Xqi"
      },
      "execution_count": null,
      "outputs": []
    },
    {
      "cell_type": "markdown",
      "source": [
        "Hash table의 탐색 연산 시간 복잡도는, 우선 탐색 연산 시 해시 함수를 계산하는데 O(1), 배열 인덱스에 접근하는 데 O(1)이 걸린다. 이제 이 인덱스 안의 데이터를 선형으로 하나하나 찾아보며 원하는 key값을 찾아 value를 주는데, 이 때 최악의 경우 n개의 데이터가 한 인덱스에 모두 저장되어 n개를 모두 탐색하게 되면 O(n)이 걸리므로 총 O(n+1+1)=O(n)만큼이 걸린다.\n",
        "\n",
        "해시 테이블 삽입 연산 시간 복잡도는, 삽입 연산 시 먼저 해시 함수를 계산하고, 배열 인덱스에 접근 하는 데는 각각 O(1)이 걸린다. 그리고 인덱스 안의 링크드 리스트 노드를 탐색하는데, 이는 같은 key값이 있다면 원래 있던 key값의 value를 추가하려는 value 값으로 바꾸고 같은 key값이 없다면 그냥 추가하기 위해 노드를 탐색한다. 이 때 걸리는 시간은 최악의 경우 O(n)이 걸린다. 마지막으로 노드를 수정하거나 추가하는 데 걸리는 시간은 O(1)이므로 총 O(1+1+n+1)=O(n)이 걸린다.\n",
        "\n",
        "해시 테이블 삭제 연산 시간 복잡도는, 해시 함수 계산과 배열 인덱스 접근 하는 데 각각 O(1)씩, key값을 찾기 위해 노드를 탐색하는 데 최악의 경우 O(n)만큼, 찾은 링크드 리스트 노드를 삭제하는데 O(1)이 걸리므로 총 O(n)이 걸린다.\n",
        "\n",
        "이렇게 모두 O(n)씩 최악의 경우 걸리는데, 이렇게 되려면 모든 key, value값이 하나의 인덱스에 저장될 경우를 가정한다. 하지만 이 일은 잘 일어나지 않으므로 해시 테이블 연산들 분해 분석을 사용한다. 이는 배열에 저장되어 있는 데이터들의 평균 길이를 구하면 된다. \n",
        "\n",
        "총 들어있는 key-value 쌍의 개수를 배열 인덱스 수로 나눠준다. hash table에서의 시간 복잡도는 위에서 봤듯이 한 인덱스에 들어있는 데이터 수에 비례하기 때문이다. 이렇게 하면 가정하기를, 배열 인덱스 수가 key-value 쌍의 개수보다 작거나 같다로 가정하는데 이 경우 최대 나눴을 때 1까지 나올 수 있으므로 해시 테이블 계산은 평균적으로 O(1)만큼 걸린다고 할 수 있다."
      ],
      "metadata": {
        "id": "sg1RFD-X6vCD"
      }
    },
    {
      "cell_type": "code",
      "source": [
        "class HashTable:\n",
        "  def __init__(self,capacity):\n",
        "    self._capacity=capacity #파이썬 리스트 수용 크기 저장\n",
        "    self._table=[LinkedList() for _ in range(self._capacity)] #인덱스에 빈 링크드 리스트 저장\n",
        "  \n",
        "  def _hash_function(self,key):\n",
        "    return hash(key)%self._capacity\n",
        "\n",
        "  def _get_linked_list_method_for_key(self,key):\n",
        "    hashed_index=self._hash_function(key)\n",
        "    return self._table[hashed_index]\n",
        "\n",
        "  def _look_up_node(self,key):\n",
        "    linked_list=self._get_linked_list_method_for_key(key)\n",
        "    return linked_list.find_node_with_key(key)\n",
        "\n",
        "  def look_up_value(self,key):\n",
        "    return self._look_up_node(key).value\n",
        "\n",
        "  def insert(self,key,value):\n",
        "    existing_node=self._look_up_node(key)\n",
        "    if existing_node !=None:\n",
        "      existing_node.value=value\n",
        "    else:\n",
        "      linked_list=self._get_linked_list_method_for_key(key)\n",
        "      linked_list.append(key,value)\n",
        "\n",
        "  def delete_by_key(self,key):\n",
        "    node_to_delete = self._look_up_node(key)  # 이미 저장된 key인지 확인한다\n",
        "    if node_to_delete!=None:\n",
        "        linked_list = self._get_linked_list_for_key(key)\n",
        "        linked_list.delete(node_to_delete)\n",
        "\n",
        "  def __str__(self):\n",
        "    res_str=\"\"\n",
        "    for linked_list in self._table:\n",
        "      res_str+=str(linked_list)\n",
        "\n",
        "    return res_str[:-1]\n",
        "\n"
      ],
      "metadata": {
        "id": "1MK9AXg2-uaT"
      },
      "execution_count": null,
      "outputs": []
    },
    {
      "cell_type": "markdown",
      "source": [
        "충돌을 해결하기 위한 다른 방법은 open addressing을 이용하는 것이다. 이는 충돌이 일어나면 비어있는 다른 인덱스를 찾는 것이다. \n",
        "\n",
        "이 다른 인덱스를 찾는 방법 중 하나는 선형 탐사 (linear probing)이 있다. 이것은 충돌이 일어났을 때 한 칸씩 다음 인덱스가 비었는 지 확인하는 것이다.\n",
        "\n",
        "또 다른 방법은 제곱 탐사 (quadratic probing)이다. 이는 첫번째는 차 있는 데이터보다 1의 제곱만큼 앞에 있는 인덱스를, 또 차 있으면 2의 제곱만큼 앞에 있는 인덱스 ... 로 비어있는 인덱스를 탐사하는 방법이다.\n",
        "\n",
        "***Open addressing 탐색/삭제 연산***\n",
        "\n",
        "open addressing을 이용했을 경우의 탐색은 먼저 숫자를 해시 함수에 넣어 인덱스를 찾고 그 인덱스부터 하나하나 선형적으로 내려가면서 찾으려는 key값을 찾는다. 이 때, 만약 찾다가 빈 칸이 나오면 이는 찾으려는 key 값이 저장되지 않았다는 것과 동일한 의미이다. 그 이유는 만약 key값이 저장되었다면, 해시 함수에 넣었을 때부터 내려가다가 빈 칸에 넣었을텐데 내려가다가 key값을 찾기 전에 빈 칸이 나왔다는 것은 저장되지 않았다는 것과 동일한 의미이기 때문이다.\n",
        "\n",
        "삭제 연산의 경우 위와 동일하게 해시함수를 이용하여 인덱스를 찾고 내려가면서 원하는 key값을 찾으면 삭제하면 되는데, 이 때 꼭 deleted 와 같은 삭제가 되었다는 표시의 데이터를 저장해주어야 한다. 그 이유는 그냥 삭제해버리면 빈 칸이 나오는데, 이 때 만약 다른 데이터를 탐색하다가 탐색하려는 key값이 빈 칸보다 뒤에 있다면 그 key값은 저장되지 않았다고 판단될 것이기 때문이다.\n",
        "\n",
        "\n",
        "이렇게 open addressing 탐사, 삭제, 삽입 연산은 최악의 경우 데이터의 수에 비례하므로 O(n)만큼이 걸린다.\n",
        "\n",
        "하지만 이것도 최악의 경우만 생각하면 불공평하므로 평균을 생각한다. Open addressing에서는 load factor를 사용하여 평균을 계산한다. Load factor=alpha 로 표시하는데, 알파는 데이터 수/배열의 크기로 데이터가 얼마나 차있는 지를 나타낸다.\n",
        "\n",
        "결과적으로 얘기하면 Open addressing을 사용하는 해시 테이블에서 평균적으로 탐사를 해야 되는 횟수 (기댓값)은 1/(1-alpha)보다 작습니다.\n",
        "\n",
        "기댓값이 1/(1-alpha) 라는 걸 무슨 의미일까요? 배열이 총 100 칸이라고 하고 90 개의 key - value 쌍을 저장했다고 합시다. 그럼 load factor alpha = 0.9 α=0.9 인 건데요.\n",
        "\n",
        "기댓값에 α를 대입하면 10이 나옵니다. 그러니까 빈 인덱스를 찾기 위해서 평균적으로 인덱스 10 개보다 적은 인덱스를 확인해도 된다는 뜻이죠. 사실 load factor 가 0.9도 굉장히 load factor가 큰 거고요. 만약에 \\alpha = 0.5α=0.5 그러니까 해시 테이블이 반 정도 차있다면 어떨까요? 기댓값은 2보다 작습니다. 그러니까 해시 테이블이 반이나 차 있어도 평균적으로 두 개의 인덱스만 확인해봐도 빈칸을 찾을 수 있다는 거죠.\n",
        "\n",
        "그럼 해시 테이블을 사용할 때, 항상 load factor가 0.9가 넘지 않게 사용하겠다고 약속을 하면 어떻게 될까요? (일반적으로 이 제한을 변수 c를 사용해서 표현합니다) \\frac{1}{1 - \\alpha} \n",
        "1−α\n",
        "1\n",
        "​\n",
        " 를 계산해보면 평균적으로 10 보다 적게 탐사를 해야된다고 할 수 있는데요. 0 \\lt alpha \\lt 0.90<alpha<0.9 일 때는 평균적으로 항상 10보다 적게 탐사할 수 있겠죠? 그렇기 때문에 이 가정을 한다면,성공적으로 원하는 인덱스를 찾는데 봐야 하는 인덱스 수는 평균적으로 O(10)O(10) 이하, 즉 O(1)O(1)이라고 할 수 있습니다. 탐사가 평균적으로 O(1)O(1)이 걸리는 거죠.\n",
        "\n",
        " "
      ],
      "metadata": {
        "id": "jJiy4sTzElaL"
      }
    }
  ]
}