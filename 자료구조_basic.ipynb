{
  "nbformat": 4,
  "nbformat_minor": 0,
  "metadata": {
    "colab": {
      "name": "자료구조 basic.ipynb",
      "provenance": [],
      "collapsed_sections": [],
      "authorship_tag": "ABX9TyNGCULCjehjYHX9Ec+Ap+9d",
      "include_colab_link": true
    },
    "kernelspec": {
      "name": "python3",
      "display_name": "Python 3"
    },
    "language_info": {
      "name": "python"
    }
  },
  "cells": [
    {
      "cell_type": "markdown",
      "metadata": {
        "id": "view-in-github",
        "colab_type": "text"
      },
      "source": [
        "<a href=\"https://colab.research.google.com/github/jiiiisoo/Studying/blob/main/%EC%9E%90%EB%A3%8C%EA%B5%AC%EC%A1%B0_basic.ipynb\" target=\"_parent\"><img src=\"https://colab.research.google.com/assets/colab-badge.svg\" alt=\"Open In Colab\"/></a>"
      ]
    },
    {
      "cell_type": "markdown",
      "source": [
        "**상황에 맞는 자료구조인지 알아보는 방법**"
      ],
      "metadata": {
        "id": "f_81gcJMOCRm"
      }
    },
    {
      "cell_type": "code",
      "source": [
        "import time\n",
        "test_list=[x for x in range (100001)]\n",
        "test_set=set([x for x in range (100001)])\n",
        "t0=time.time()\n",
        "print(10000 in test_list)\n",
        "t1=time.time()\n",
        "print(t1-t0)\n",
        "t0=time.time()\n",
        "print(10000 in test_set)\n",
        "t1=time.time()\n",
        "print(t1-t0)"
      ],
      "metadata": {
        "colab": {
          "base_uri": "https://localhost:8080/"
        },
        "id": "pxl6AonJOTi1",
        "outputId": "844d5a60-4eb2-4491-a66c-5ee9d95f46fa"
      },
      "execution_count": null,
      "outputs": [
        {
          "output_type": "stream",
          "name": "stdout",
          "text": [
            "True\n",
            "0.0009491443634033203\n",
            "True\n",
            "0.0003325939178466797\n"
          ]
        }
      ]
    },
    {
      "cell_type": "markdown",
      "source": [
        "set 가 list보다 속도가 빠르므로 더 적합하다고 판단할 수 있다.\n",
        "\n",
        "**컴퓨터가 데이터 저장하는 법**\n",
        "\n",
        "***storage vs. memory***\n",
        "\n",
        "Storage: 컴퓨터에 영구적으로 저장할 수 있으며 데이터 용량이 비교적 큰 편이다. 하지만 데이터를 저장하거나 받아오는 데 시간이 오래 걸려 당장이 아닌 정확히 언제 사용할 지 모르는 데이터를 저장할 때 유용하다.\n",
        "\n",
        "Memory: 컴퓨터에 임시적으로 데이터를 저장하며 용량이 비교적 작은 편이다. 흔히 RAM의 용량을 물어볼 때, 이 RAM이 memory를 의미한다. Memory는 데이터를 저장하고 받아오는 데 걸리는 시간이 적기 때문에 당장 사용해야 하는 데이터를 저장할 때 유용하다.\n",
        "\n",
        "Ex. 컴퓨터로 영화를 볼 때, 영화 파일은 storage에 저장하지만, 스크린으로 보여줄 때는 장면들을 storage에서 하나씩 꺼내 보여주면 시간이 오래 걸리므로 memory로 영화를 복사해 memory에서 한 장면씩 꺼내어 보여주고 바로 삭제한다.\n",
        "\n",
        "자료 구조에서는 memory에서 잘 사용하도록 저장하는 방법을 배운다.\n",
        "\n",
        "***RAM: Random Access Memory***\n",
        "\n",
        "Memory: 일정한 칸으로 나뉘어져 있어 각 칸에 데이터를 저장하는데, 각 칸에는 주소가 부여되어있다. 이 memory를 위에서 말했듯, RAM이라고 하는데 RAM의 데이터 찾는 방식은 임의 접근이다.\n",
        "\n",
        "임의 접근이란, 저장 위치를 알면 데이터를 찾는데 항상 일정한 시간이 걸리므로 데이터가 저장된 주소만 알면, 그 주소가 뭐든 항상 같은 시간이 걸린다. 이를 memory에 저장된 데이터 접근 시간 복잡도는 O(1)이라고 한다.\n",
        "\n",
        "이와 달리 순차 접근이란, 데이터가 저장된 위치까지 가는데 앞에서부터 한 단계씩 가야하는 것이다.\n",
        "\n",
        "따라서 임의 접근이 순차 접근보다 훨씬 효율적이며 자료구조에서는 memory에서 데이터를 저장하고 가져오므로 임의 접근을 한다.\n",
        "\n",
        "이러한 메모리가 한 칸에 저장할 수 있는 용량 단위는 1byte이다.\n",
        "\n",
        "***Reference***\n",
        "\n",
        "x=95는 x라는 reference에 95를 할당하는 것으로, 'x는 95이다'는 틀린 표현이다. 정확히는 'x는 95를 가리킨다'라고 한다. 이와 같이 reference는 주소보다는 조금 포괄적인데, 자료 구조에서는 주소=reference 라고 생각해도 무방하다.\n",
        "\n",
        "***데이터의 주소***\n",
        "\n",
        "파이썬의 id함수 이용시, 데이터의 주소 알아낼 수 있다."
      ],
      "metadata": {
        "id": "i60Xw3beO-5q"
      }
    },
    {
      "cell_type": "code",
      "source": [
        "list1=[1,2]\n",
        "id(list1)"
      ],
      "metadata": {
        "colab": {
          "base_uri": "https://localhost:8080/"
        },
        "id": "UXKduKJjWGnM",
        "outputId": "80aa37b0-98d4-445b-a854-c340913af145"
      },
      "execution_count": null,
      "outputs": [
        {
          "output_type": "execute_result",
          "data": {
            "text/plain": [
              "139812270312256"
            ]
          },
          "metadata": {},
          "execution_count": 5
        }
      ]
    },
    {
      "cell_type": "code",
      "source": [
        "#Aliasing: 여러 변수가 같은 메모리를 가리키는 것, 즉 한 메모리에 있는 값을 여러 변수가 참조하는 것.\n",
        "list1=[1,2,3]\n",
        "list2=list1\n",
        "print(id(list1))\n",
        "print(id(list2))"
      ],
      "metadata": {
        "colab": {
          "base_uri": "https://localhost:8080/"
        },
        "id": "GLl90cT3WMIA",
        "outputId": "127b5777-30f7-4470-b690-53113fbb9012"
      },
      "execution_count": null,
      "outputs": [
        {
          "output_type": "stream",
          "name": "stdout",
          "text": [
            "139812276638496\n",
            "139812276638496\n"
          ]
        }
      ]
    },
    {
      "cell_type": "code",
      "source": [
        ""
      ],
      "metadata": {
        "id": "yDZImzTsWlS2"
      },
      "execution_count": null,
      "outputs": []
    }
  ]
}